{
 "cells": [
  {
   "cell_type": "code",
   "execution_count": 1,
   "metadata": {},
   "outputs": [],
   "source": [
    "import shutil\n",
    "import os, sys, random\n",
    "import xml.etree.ElementTree as ET\n",
    "from glob import glob\n",
    "import pandas as pd\n",
    "from shutil import copyfile\n",
    "import pandas as pd\n",
    "from sklearn import preprocessing, model_selection\n",
    "import matplotlib.pyplot as plt\n",
    "%matplotlib inline\n",
    "from matplotlib import patches\n",
    "import numpy as np\n",
    "import os\n",
    "from sklearn.model_selection import train_test_split\n",
    "from preprocess import preprocess"
   ]
  },
  {
   "cell_type": "code",
   "execution_count": 2,
   "metadata": {},
   "outputs": [
    {
     "name": "stdout",
     "output_type": "stream",
     "text": [
      "checking that all .jpg file extensions are lower case...\n"
     ]
    },
    {
     "name": "stderr",
     "output_type": "stream",
     "text": [
      "100%|██████████| 7582/7582 [00:00<00:00, 850845.81it/s]\n"
     ]
    },
    {
     "name": "stdout",
     "output_type": "stream",
     "text": [
      "Parsing xml files and generating pandas df...\n"
     ]
    },
    {
     "name": "stderr",
     "output_type": "stream",
     "text": [
      "100%|██████████| 7581/7581 [00:01<00:00, 3824.52it/s]\n"
     ]
    },
    {
     "name": "stdout",
     "output_type": "stream",
     "text": [
      "segregating data...\n"
     ]
    },
    {
     "name": "stderr",
     "output_type": "stream",
     "text": [
      "100%|██████████| 6139/6139 [00:30<00:00, 204.50it/s]\n",
      "100%|██████████| 759/759 [00:01<00:00, 407.76it/s]\n",
      "100%|██████████| 683/683 [00:01<00:00, 556.00it/s]"
     ]
    },
    {
     "name": "stdout",
     "output_type": "stream",
     "text": [
      "No. of Training images 6140\n",
      "No. of Training labels 6140\n",
      "No. of test images 767\n",
      "No. of test labels 760\n",
      "No. of valid images 684\n",
      "No. of valid labels 684\n"
     ]
    },
    {
     "name": "stderr",
     "output_type": "stream",
     "text": [
      "\n"
     ]
    }
   ],
   "source": [
    "preprocess()"
   ]
  },
  {
   "cell_type": "code",
   "execution_count": 6,
   "metadata": {},
   "outputs": [
    {
     "name": "stdout",
     "output_type": "stream",
     "text": [
      "Requirement already satisfied: ultralytics in /Users/iliyask/.pyenv/versions/3.10.6/envs/helmet_det/lib/python3.10/site-packages (8.2.18)\n",
      "Requirement already satisfied: matplotlib>=3.3.0 in /Users/iliyask/.pyenv/versions/3.10.6/envs/helmet_det/lib/python3.10/site-packages (from ultralytics) (3.9.0)\n",
      "Requirement already satisfied: opencv-python>=4.6.0 in /Users/iliyask/.pyenv/versions/3.10.6/envs/helmet_det/lib/python3.10/site-packages (from ultralytics) (4.9.0.80)\n",
      "Requirement already satisfied: pillow>=7.1.2 in /Users/iliyask/.pyenv/versions/3.10.6/envs/helmet_det/lib/python3.10/site-packages (from ultralytics) (10.3.0)\n",
      "Requirement already satisfied: pyyaml>=5.3.1 in /Users/iliyask/.pyenv/versions/3.10.6/envs/helmet_det/lib/python3.10/site-packages (from ultralytics) (6.0.1)\n",
      "Requirement already satisfied: requests>=2.23.0 in /Users/iliyask/.pyenv/versions/3.10.6/envs/helmet_det/lib/python3.10/site-packages (from ultralytics) (2.31.0)\n",
      "Requirement already satisfied: scipy>=1.4.1 in /Users/iliyask/.pyenv/versions/3.10.6/envs/helmet_det/lib/python3.10/site-packages (from ultralytics) (1.13.0)\n",
      "Requirement already satisfied: torch>=1.8.0 in /Users/iliyask/.pyenv/versions/3.10.6/envs/helmet_det/lib/python3.10/site-packages (from ultralytics) (2.3.0)\n",
      "Requirement already satisfied: torchvision>=0.9.0 in /Users/iliyask/.pyenv/versions/3.10.6/envs/helmet_det/lib/python3.10/site-packages (from ultralytics) (0.18.0)\n",
      "Requirement already satisfied: tqdm>=4.64.0 in /Users/iliyask/.pyenv/versions/3.10.6/envs/helmet_det/lib/python3.10/site-packages (from ultralytics) (4.66.4)\n",
      "Requirement already satisfied: psutil in /Users/iliyask/.pyenv/versions/3.10.6/envs/helmet_det/lib/python3.10/site-packages (from ultralytics) (5.9.8)\n",
      "Requirement already satisfied: py-cpuinfo in /Users/iliyask/.pyenv/versions/3.10.6/envs/helmet_det/lib/python3.10/site-packages (from ultralytics) (9.0.0)\n",
      "Requirement already satisfied: thop>=0.1.1 in /Users/iliyask/.pyenv/versions/3.10.6/envs/helmet_det/lib/python3.10/site-packages (from ultralytics) (0.1.1.post2209072238)\n",
      "Requirement already satisfied: pandas>=1.1.4 in /Users/iliyask/.pyenv/versions/3.10.6/envs/helmet_det/lib/python3.10/site-packages (from ultralytics) (2.2.2)\n",
      "Requirement already satisfied: seaborn>=0.11.0 in /Users/iliyask/.pyenv/versions/3.10.6/envs/helmet_det/lib/python3.10/site-packages (from ultralytics) (0.13.2)\n",
      "Requirement already satisfied: contourpy>=1.0.1 in /Users/iliyask/.pyenv/versions/3.10.6/envs/helmet_det/lib/python3.10/site-packages (from matplotlib>=3.3.0->ultralytics) (1.2.1)\n",
      "Requirement already satisfied: cycler>=0.10 in /Users/iliyask/.pyenv/versions/3.10.6/envs/helmet_det/lib/python3.10/site-packages (from matplotlib>=3.3.0->ultralytics) (0.12.1)\n",
      "Requirement already satisfied: fonttools>=4.22.0 in /Users/iliyask/.pyenv/versions/3.10.6/envs/helmet_det/lib/python3.10/site-packages (from matplotlib>=3.3.0->ultralytics) (4.51.0)\n",
      "Requirement already satisfied: kiwisolver>=1.3.1 in /Users/iliyask/.pyenv/versions/3.10.6/envs/helmet_det/lib/python3.10/site-packages (from matplotlib>=3.3.0->ultralytics) (1.4.5)\n",
      "Requirement already satisfied: numpy>=1.23 in /Users/iliyask/.pyenv/versions/3.10.6/envs/helmet_det/lib/python3.10/site-packages (from matplotlib>=3.3.0->ultralytics) (1.26.4)\n",
      "Requirement already satisfied: packaging>=20.0 in /Users/iliyask/.pyenv/versions/3.10.6/envs/helmet_det/lib/python3.10/site-packages (from matplotlib>=3.3.0->ultralytics) (24.0)\n",
      "Requirement already satisfied: pyparsing>=2.3.1 in /Users/iliyask/.pyenv/versions/3.10.6/envs/helmet_det/lib/python3.10/site-packages (from matplotlib>=3.3.0->ultralytics) (3.1.2)\n",
      "Requirement already satisfied: python-dateutil>=2.7 in /Users/iliyask/.pyenv/versions/3.10.6/envs/helmet_det/lib/python3.10/site-packages (from matplotlib>=3.3.0->ultralytics) (2.9.0.post0)\n",
      "Requirement already satisfied: pytz>=2020.1 in /Users/iliyask/.pyenv/versions/3.10.6/envs/helmet_det/lib/python3.10/site-packages (from pandas>=1.1.4->ultralytics) (2024.1)\n",
      "Requirement already satisfied: tzdata>=2022.7 in /Users/iliyask/.pyenv/versions/3.10.6/envs/helmet_det/lib/python3.10/site-packages (from pandas>=1.1.4->ultralytics) (2024.1)\n",
      "Requirement already satisfied: charset-normalizer<4,>=2 in /Users/iliyask/.pyenv/versions/3.10.6/envs/helmet_det/lib/python3.10/site-packages (from requests>=2.23.0->ultralytics) (3.3.2)\n",
      "Requirement already satisfied: idna<4,>=2.5 in /Users/iliyask/.pyenv/versions/3.10.6/envs/helmet_det/lib/python3.10/site-packages (from requests>=2.23.0->ultralytics) (3.7)\n",
      "Requirement already satisfied: urllib3<3,>=1.21.1 in /Users/iliyask/.pyenv/versions/3.10.6/envs/helmet_det/lib/python3.10/site-packages (from requests>=2.23.0->ultralytics) (2.2.1)\n",
      "Requirement already satisfied: certifi>=2017.4.17 in /Users/iliyask/.pyenv/versions/3.10.6/envs/helmet_det/lib/python3.10/site-packages (from requests>=2.23.0->ultralytics) (2024.2.2)\n",
      "Requirement already satisfied: filelock in /Users/iliyask/.pyenv/versions/3.10.6/envs/helmet_det/lib/python3.10/site-packages (from torch>=1.8.0->ultralytics) (3.14.0)\n",
      "Requirement already satisfied: typing-extensions>=4.8.0 in /Users/iliyask/.pyenv/versions/3.10.6/envs/helmet_det/lib/python3.10/site-packages (from torch>=1.8.0->ultralytics) (4.11.0)\n",
      "Requirement already satisfied: sympy in /Users/iliyask/.pyenv/versions/3.10.6/envs/helmet_det/lib/python3.10/site-packages (from torch>=1.8.0->ultralytics) (1.12)\n",
      "Requirement already satisfied: networkx in /Users/iliyask/.pyenv/versions/3.10.6/envs/helmet_det/lib/python3.10/site-packages (from torch>=1.8.0->ultralytics) (3.3)\n",
      "Requirement already satisfied: jinja2 in /Users/iliyask/.pyenv/versions/3.10.6/envs/helmet_det/lib/python3.10/site-packages (from torch>=1.8.0->ultralytics) (3.1.4)\n",
      "Requirement already satisfied: fsspec in /Users/iliyask/.pyenv/versions/3.10.6/envs/helmet_det/lib/python3.10/site-packages (from torch>=1.8.0->ultralytics) (2024.5.0)\n",
      "Requirement already satisfied: six>=1.5 in /Users/iliyask/.pyenv/versions/3.10.6/envs/helmet_det/lib/python3.10/site-packages (from python-dateutil>=2.7->matplotlib>=3.3.0->ultralytics) (1.16.0)\n",
      "Requirement already satisfied: MarkupSafe>=2.0 in /Users/iliyask/.pyenv/versions/3.10.6/envs/helmet_det/lib/python3.10/site-packages (from jinja2->torch>=1.8.0->ultralytics) (2.1.5)\n",
      "Requirement already satisfied: mpmath>=0.19 in /Users/iliyask/.pyenv/versions/3.10.6/envs/helmet_det/lib/python3.10/site-packages (from sympy->torch>=1.8.0->ultralytics) (1.3.0)\n"
     ]
    }
   ],
   "source": [
    "!pip install ultralytics"
   ]
  },
  {
   "cell_type": "code",
   "execution_count": null,
   "metadata": {},
   "outputs": [],
   "source": []
  },
  {
   "cell_type": "code",
   "execution_count": 3,
   "metadata": {},
   "outputs": [
    {
     "name": "stdout",
     "output_type": "stream",
     "text": [
      "Processing ./ultralytics\n",
      "  Installing build dependencies ... \u001b[?25ldone\n",
      "\u001b[?25h  Getting requirements to build wheel ... \u001b[?25ldone\n",
      "\u001b[?25h  Preparing metadata (pyproject.toml) ... \u001b[?25ldone\n",
      "\u001b[?25hRequirement already satisfied: matplotlib>=3.3.0 in /Users/iliyask/.pyenv/versions/3.10.6/envs/helmet_det/lib/python3.10/site-packages (from ultralytics==8.2.18) (3.9.0)\n",
      "Requirement already satisfied: opencv-python>=4.6.0 in /Users/iliyask/.pyenv/versions/3.10.6/envs/helmet_det/lib/python3.10/site-packages (from ultralytics==8.2.18) (4.9.0.80)\n",
      "Requirement already satisfied: pillow>=7.1.2 in /Users/iliyask/.pyenv/versions/3.10.6/envs/helmet_det/lib/python3.10/site-packages (from ultralytics==8.2.18) (10.3.0)\n",
      "Requirement already satisfied: pyyaml>=5.3.1 in /Users/iliyask/.pyenv/versions/3.10.6/envs/helmet_det/lib/python3.10/site-packages (from ultralytics==8.2.18) (6.0.1)\n",
      "Requirement already satisfied: requests>=2.23.0 in /Users/iliyask/.pyenv/versions/3.10.6/envs/helmet_det/lib/python3.10/site-packages (from ultralytics==8.2.18) (2.31.0)\n",
      "Requirement already satisfied: scipy>=1.4.1 in /Users/iliyask/.pyenv/versions/3.10.6/envs/helmet_det/lib/python3.10/site-packages (from ultralytics==8.2.18) (1.13.0)\n",
      "Requirement already satisfied: torch>=1.8.0 in /Users/iliyask/.pyenv/versions/3.10.6/envs/helmet_det/lib/python3.10/site-packages (from ultralytics==8.2.18) (2.3.0)\n",
      "Requirement already satisfied: torchvision>=0.9.0 in /Users/iliyask/.pyenv/versions/3.10.6/envs/helmet_det/lib/python3.10/site-packages (from ultralytics==8.2.18) (0.18.0)\n",
      "Requirement already satisfied: tqdm>=4.64.0 in /Users/iliyask/.pyenv/versions/3.10.6/envs/helmet_det/lib/python3.10/site-packages (from ultralytics==8.2.18) (4.66.4)\n",
      "Requirement already satisfied: psutil in /Users/iliyask/.pyenv/versions/3.10.6/envs/helmet_det/lib/python3.10/site-packages (from ultralytics==8.2.18) (5.9.8)\n",
      "Requirement already satisfied: py-cpuinfo in /Users/iliyask/.pyenv/versions/3.10.6/envs/helmet_det/lib/python3.10/site-packages (from ultralytics==8.2.18) (9.0.0)\n",
      "Requirement already satisfied: thop>=0.1.1 in /Users/iliyask/.pyenv/versions/3.10.6/envs/helmet_det/lib/python3.10/site-packages (from ultralytics==8.2.18) (0.1.1.post2209072238)\n",
      "Requirement already satisfied: pandas>=1.1.4 in /Users/iliyask/.pyenv/versions/3.10.6/envs/helmet_det/lib/python3.10/site-packages (from ultralytics==8.2.18) (2.2.2)\n",
      "Requirement already satisfied: seaborn>=0.11.0 in /Users/iliyask/.pyenv/versions/3.10.6/envs/helmet_det/lib/python3.10/site-packages (from ultralytics==8.2.18) (0.13.2)\n",
      "Requirement already satisfied: contourpy>=1.0.1 in /Users/iliyask/.pyenv/versions/3.10.6/envs/helmet_det/lib/python3.10/site-packages (from matplotlib>=3.3.0->ultralytics==8.2.18) (1.2.1)\n",
      "Requirement already satisfied: cycler>=0.10 in /Users/iliyask/.pyenv/versions/3.10.6/envs/helmet_det/lib/python3.10/site-packages (from matplotlib>=3.3.0->ultralytics==8.2.18) (0.12.1)\n",
      "Requirement already satisfied: fonttools>=4.22.0 in /Users/iliyask/.pyenv/versions/3.10.6/envs/helmet_det/lib/python3.10/site-packages (from matplotlib>=3.3.0->ultralytics==8.2.18) (4.51.0)\n",
      "Requirement already satisfied: kiwisolver>=1.3.1 in /Users/iliyask/.pyenv/versions/3.10.6/envs/helmet_det/lib/python3.10/site-packages (from matplotlib>=3.3.0->ultralytics==8.2.18) (1.4.5)\n",
      "Requirement already satisfied: numpy>=1.23 in /Users/iliyask/.pyenv/versions/3.10.6/envs/helmet_det/lib/python3.10/site-packages (from matplotlib>=3.3.0->ultralytics==8.2.18) (1.26.4)\n",
      "Requirement already satisfied: packaging>=20.0 in /Users/iliyask/.pyenv/versions/3.10.6/envs/helmet_det/lib/python3.10/site-packages (from matplotlib>=3.3.0->ultralytics==8.2.18) (24.0)\n",
      "Requirement already satisfied: pyparsing>=2.3.1 in /Users/iliyask/.pyenv/versions/3.10.6/envs/helmet_det/lib/python3.10/site-packages (from matplotlib>=3.3.0->ultralytics==8.2.18) (3.1.2)\n",
      "Requirement already satisfied: python-dateutil>=2.7 in /Users/iliyask/.pyenv/versions/3.10.6/envs/helmet_det/lib/python3.10/site-packages (from matplotlib>=3.3.0->ultralytics==8.2.18) (2.9.0.post0)\n",
      "Requirement already satisfied: pytz>=2020.1 in /Users/iliyask/.pyenv/versions/3.10.6/envs/helmet_det/lib/python3.10/site-packages (from pandas>=1.1.4->ultralytics==8.2.18) (2024.1)\n",
      "Requirement already satisfied: tzdata>=2022.7 in /Users/iliyask/.pyenv/versions/3.10.6/envs/helmet_det/lib/python3.10/site-packages (from pandas>=1.1.4->ultralytics==8.2.18) (2024.1)\n",
      "Requirement already satisfied: charset-normalizer<4,>=2 in /Users/iliyask/.pyenv/versions/3.10.6/envs/helmet_det/lib/python3.10/site-packages (from requests>=2.23.0->ultralytics==8.2.18) (3.3.2)\n",
      "Requirement already satisfied: idna<4,>=2.5 in /Users/iliyask/.pyenv/versions/3.10.6/envs/helmet_det/lib/python3.10/site-packages (from requests>=2.23.0->ultralytics==8.2.18) (3.7)\n",
      "Requirement already satisfied: urllib3<3,>=1.21.1 in /Users/iliyask/.pyenv/versions/3.10.6/envs/helmet_det/lib/python3.10/site-packages (from requests>=2.23.0->ultralytics==8.2.18) (2.2.1)\n",
      "Requirement already satisfied: certifi>=2017.4.17 in /Users/iliyask/.pyenv/versions/3.10.6/envs/helmet_det/lib/python3.10/site-packages (from requests>=2.23.0->ultralytics==8.2.18) (2024.2.2)\n",
      "Requirement already satisfied: filelock in /Users/iliyask/.pyenv/versions/3.10.6/envs/helmet_det/lib/python3.10/site-packages (from torch>=1.8.0->ultralytics==8.2.18) (3.14.0)\n",
      "Requirement already satisfied: typing-extensions>=4.8.0 in /Users/iliyask/.pyenv/versions/3.10.6/envs/helmet_det/lib/python3.10/site-packages (from torch>=1.8.0->ultralytics==8.2.18) (4.11.0)\n",
      "Requirement already satisfied: sympy in /Users/iliyask/.pyenv/versions/3.10.6/envs/helmet_det/lib/python3.10/site-packages (from torch>=1.8.0->ultralytics==8.2.18) (1.12)\n",
      "Requirement already satisfied: networkx in /Users/iliyask/.pyenv/versions/3.10.6/envs/helmet_det/lib/python3.10/site-packages (from torch>=1.8.0->ultralytics==8.2.18) (3.3)\n",
      "Requirement already satisfied: jinja2 in /Users/iliyask/.pyenv/versions/3.10.6/envs/helmet_det/lib/python3.10/site-packages (from torch>=1.8.0->ultralytics==8.2.18) (3.1.4)\n",
      "Requirement already satisfied: fsspec in /Users/iliyask/.pyenv/versions/3.10.6/envs/helmet_det/lib/python3.10/site-packages (from torch>=1.8.0->ultralytics==8.2.18) (2024.5.0)\n",
      "Requirement already satisfied: six>=1.5 in /Users/iliyask/.pyenv/versions/3.10.6/envs/helmet_det/lib/python3.10/site-packages (from python-dateutil>=2.7->matplotlib>=3.3.0->ultralytics==8.2.18) (1.16.0)\n",
      "Requirement already satisfied: MarkupSafe>=2.0 in /Users/iliyask/.pyenv/versions/3.10.6/envs/helmet_det/lib/python3.10/site-packages (from jinja2->torch>=1.8.0->ultralytics==8.2.18) (2.1.5)\n",
      "Requirement already satisfied: mpmath>=0.19 in /Users/iliyask/.pyenv/versions/3.10.6/envs/helmet_det/lib/python3.10/site-packages (from sympy->torch>=1.8.0->ultralytics==8.2.18) (1.3.0)\n",
      "Building wheels for collected packages: ultralytics\n",
      "  Building wheel for ultralytics (pyproject.toml) ... \u001b[?25ldone\n",
      "\u001b[?25h  Created wheel for ultralytics: filename=ultralytics-8.2.18-py3-none-any.whl size=1369787 sha256=f45370d186ddedc366dceeb179272085a984eccf2e0a960655a3f196b3c9d677\n",
      "  Stored in directory: /private/var/folders/qh/z2q31mxn1w14dq3q46dj8fnh0000gn/T/pip-ephem-wheel-cache-x8x54elp/wheels/b8/a0/8e/2ca3820e0876870e9acccc851f317d4cbcf24db12212a9e044\n",
      "Successfully built ultralytics\n",
      "Installing collected packages: ultralytics\n",
      "  Attempting uninstall: ultralytics\n",
      "    Found existing installation: ultralytics 8.2.18\n",
      "    Uninstalling ultralytics-8.2.18:\n",
      "\u001b[31mERROR: Could not install packages due to an OSError: Cannot move a directory '/Users/iliyask/.pyenv/versions/3.10.6/envs/helmet_det/lib/python3.10/site-packages/.' into itself '/Users/iliyask/.pyenv/versions/3.10.6/envs/helmet_det/lib/python3.10/site-packages/~.'.\n",
      "\u001b[0m\u001b[31m\n",
      "\u001b[0m"
     ]
    }
   ],
   "source": [
    "!pip install ultralytics/"
   ]
  },
  {
   "cell_type": "code",
   "execution_count": 4,
   "metadata": {},
   "outputs": [
    {
     "name": "stdout",
     "output_type": "stream",
     "text": [
      "Ultralytics YOLOv8.2.18 🚀 Python-3.10.6 torch-2.3.0 CPU (Apple M2)\n",
      "\u001b[34m\u001b[1mengine/trainer: \u001b[0mtask=detect, mode=train, model=yolov8n.pt, data=helmet.yaml, epochs=2, time=None, patience=100, batch=16, imgsz=640, save=True, save_period=-1, cache=False, device=None, workers=8, project=None, name=train15, exist_ok=False, pretrained=True, optimizer=auto, verbose=True, seed=0, deterministic=True, single_cls=False, rect=False, cos_lr=False, close_mosaic=10, resume=False, amp=True, fraction=1.0, profile=False, freeze=None, multi_scale=False, overlap_mask=True, mask_ratio=4, dropout=0.0, val=True, split=val, save_json=False, save_hybrid=False, conf=None, iou=0.7, max_det=300, half=False, dnn=False, plots=True, source=None, vid_stride=1, stream_buffer=False, visualize=False, augment=False, agnostic_nms=False, classes=None, retina_masks=False, embed=None, show=False, save_frames=False, save_txt=False, save_conf=False, save_crop=False, show_labels=True, show_conf=True, show_boxes=True, line_width=None, format=torchscript, keras=False, optimize=False, int8=False, dynamic=False, simplify=False, opset=None, workspace=4, nms=False, lr0=0.01, lrf=0.01, momentum=0.937, weight_decay=0.0005, warmup_epochs=3.0, warmup_momentum=0.8, warmup_bias_lr=0.1, box=7.5, cls=0.5, dfl=1.5, pose=12.0, kobj=1.0, label_smoothing=0.0, nbs=64, hsv_h=0.015, hsv_s=0.7, hsv_v=0.4, degrees=0.0, translate=0.1, scale=0.5, shear=0.0, perspective=0.0, flipud=0.0, fliplr=0.5, bgr=0.0, mosaic=1.0, mixup=0.0, copy_paste=0.0, auto_augment=randaugment, erasing=0.4, crop_fraction=1.0, cfg=None, tracker=botsort.yaml, save_dir=runs/detect/train15\n",
      "Overriding model.yaml nc=80 with nc=2\n",
      "\n",
      "                   from  n    params  module                                       arguments                     \n",
      "  0                  -1  1       464  ultralytics.nn.modules.conv.Conv             [3, 16, 3, 2]                 \n",
      "  1                  -1  1      4672  ultralytics.nn.modules.conv.Conv             [16, 32, 3, 2]                \n",
      "  2                  -1  1      7360  ultralytics.nn.modules.block.C2f             [32, 32, 1, True]             \n",
      "  3                  -1  1     18560  ultralytics.nn.modules.conv.Conv             [32, 64, 3, 2]                \n",
      "  4                  -1  2     49664  ultralytics.nn.modules.block.C2f             [64, 64, 2, True]             \n",
      "  5                  -1  1     73984  ultralytics.nn.modules.conv.Conv             [64, 128, 3, 2]               \n",
      "  6                  -1  2    197632  ultralytics.nn.modules.block.C2f             [128, 128, 2, True]           \n",
      "  7                  -1  1    295424  ultralytics.nn.modules.conv.Conv             [128, 256, 3, 2]              \n",
      "  8                  -1  1    460288  ultralytics.nn.modules.block.C2f             [256, 256, 1, True]           \n",
      "  9                  -1  1    164608  ultralytics.nn.modules.block.SPPF            [256, 256, 5]                 \n",
      " 10                  -1  1         0  torch.nn.modules.upsampling.Upsample         [None, 2, 'nearest']          \n",
      " 11             [-1, 6]  1         0  ultralytics.nn.modules.conv.Concat           [1]                           \n",
      " 12                  -1  1    148224  ultralytics.nn.modules.block.C2f             [384, 128, 1]                 \n",
      " 13                  -1  1         0  torch.nn.modules.upsampling.Upsample         [None, 2, 'nearest']          \n",
      " 14             [-1, 4]  1         0  ultralytics.nn.modules.conv.Concat           [1]                           \n",
      " 15                  -1  1     37248  ultralytics.nn.modules.block.C2f             [192, 64, 1]                  \n",
      " 16                  -1  1     36992  ultralytics.nn.modules.conv.Conv             [64, 64, 3, 2]                \n",
      " 17            [-1, 12]  1         0  ultralytics.nn.modules.conv.Concat           [1]                           \n",
      " 18                  -1  1    123648  ultralytics.nn.modules.block.C2f             [192, 128, 1]                 \n",
      " 19                  -1  1    147712  ultralytics.nn.modules.conv.Conv             [128, 128, 3, 2]              \n",
      " 20             [-1, 9]  1         0  ultralytics.nn.modules.conv.Concat           [1]                           \n",
      " 21                  -1  1    493056  ultralytics.nn.modules.block.C2f             [384, 256, 1]                 \n",
      " 22        [15, 18, 21]  1    751702  ultralytics.nn.modules.head.Detect           [2, [64, 128, 256]]           \n",
      "Model summary: 225 layers, 3011238 parameters, 3011222 gradients, 8.2 GFLOPs\n",
      "\n",
      "Transferred 319/355 items from pretrained weights\n",
      "\u001b[34m\u001b[1mTensorBoard: \u001b[0mStart with 'tensorboard --logdir runs/detect/train15', view at http://localhost:6006/\n",
      "Freezing layer 'model.22.dfl.conv.weight'\n"
     ]
    },
    {
     "name": "stderr",
     "output_type": "stream",
     "text": [
      "\u001b[34m\u001b[1mtrain: \u001b[0mScanning /Users/iliyask/Helmet_iliyas/helmet_det/Data/labels/train... 6139 images, 0 backgrounds, 0 corrupt: 100%|██████████| 6139/6139 [00:01<00:00, 3766.09it/s]"
     ]
    },
    {
     "name": "stdout",
     "output_type": "stream",
     "text": [
      "\u001b[34m\u001b[1mtrain: \u001b[0mWARNING ⚠️ /Users/iliyask/Helmet_iliyas/helmet_det/Data/images/train/000002.jpg: corrupt JPEG restored and saved\n",
      "\u001b[34m\u001b[1mtrain: \u001b[0mWARNING ⚠️ /Users/iliyask/Helmet_iliyas/helmet_det/Data/images/train/000003.jpg: corrupt JPEG restored and saved\n",
      "\u001b[34m\u001b[1mtrain: \u001b[0mWARNING ⚠️ /Users/iliyask/Helmet_iliyas/helmet_det/Data/images/train/000007.jpg: corrupt JPEG restored and saved\n",
      "\u001b[34m\u001b[1mtrain: \u001b[0mWARNING ⚠️ /Users/iliyask/Helmet_iliyas/helmet_det/Data/images/train/000011.jpg: corrupt JPEG restored and saved\n",
      "\u001b[34m\u001b[1mtrain: \u001b[0mWARNING ⚠️ /Users/iliyask/Helmet_iliyas/helmet_det/Data/images/train/000068.jpg: corrupt JPEG restored and saved\n",
      "\u001b[34m\u001b[1mtrain: \u001b[0mWARNING ⚠️ /Users/iliyask/Helmet_iliyas/helmet_det/Data/images/train/000091.jpg: corrupt JPEG restored and saved\n",
      "\u001b[34m\u001b[1mtrain: \u001b[0mWARNING ⚠️ /Users/iliyask/Helmet_iliyas/helmet_det/Data/images/train/000106.jpg: corrupt JPEG restored and saved\n",
      "\u001b[34m\u001b[1mtrain: \u001b[0mWARNING ⚠️ /Users/iliyask/Helmet_iliyas/helmet_det/Data/images/train/000113.jpg: corrupt JPEG restored and saved\n",
      "\u001b[34m\u001b[1mtrain: \u001b[0mWARNING ⚠️ /Users/iliyask/Helmet_iliyas/helmet_det/Data/images/train/000153.jpg: corrupt JPEG restored and saved\n",
      "\u001b[34m\u001b[1mtrain: \u001b[0mWARNING ⚠️ /Users/iliyask/Helmet_iliyas/helmet_det/Data/images/train/000158.jpg: corrupt JPEG restored and saved\n",
      "\u001b[34m\u001b[1mtrain: \u001b[0mWARNING ⚠️ /Users/iliyask/Helmet_iliyas/helmet_det/Data/images/train/000168.jpg: corrupt JPEG restored and saved\n",
      "\u001b[34m\u001b[1mtrain: \u001b[0mWARNING ⚠️ /Users/iliyask/Helmet_iliyas/helmet_det/Data/images/train/000177.jpg: corrupt JPEG restored and saved\n",
      "\u001b[34m\u001b[1mtrain: \u001b[0mWARNING ⚠️ /Users/iliyask/Helmet_iliyas/helmet_det/Data/images/train/000184.jpg: corrupt JPEG restored and saved\n",
      "\u001b[34m\u001b[1mtrain: \u001b[0mWARNING ⚠️ /Users/iliyask/Helmet_iliyas/helmet_det/Data/images/train/000226.jpg: corrupt JPEG restored and saved\n",
      "\u001b[34m\u001b[1mtrain: \u001b[0mWARNING ⚠️ /Users/iliyask/Helmet_iliyas/helmet_det/Data/images/train/000267.jpg: corrupt JPEG restored and saved\n",
      "\u001b[34m\u001b[1mtrain: \u001b[0mWARNING ⚠️ /Users/iliyask/Helmet_iliyas/helmet_det/Data/images/train/000268.jpg: corrupt JPEG restored and saved\n",
      "\u001b[34m\u001b[1mtrain: \u001b[0mWARNING ⚠️ /Users/iliyask/Helmet_iliyas/helmet_det/Data/images/train/000284.jpg: corrupt JPEG restored and saved\n",
      "\u001b[34m\u001b[1mtrain: \u001b[0mWARNING ⚠️ /Users/iliyask/Helmet_iliyas/helmet_det/Data/images/train/000291.jpg: corrupt JPEG restored and saved\n",
      "\u001b[34m\u001b[1mtrain: \u001b[0mWARNING ⚠️ /Users/iliyask/Helmet_iliyas/helmet_det/Data/images/train/000320.jpg: corrupt JPEG restored and saved\n",
      "\u001b[34m\u001b[1mtrain: \u001b[0mWARNING ⚠️ /Users/iliyask/Helmet_iliyas/helmet_det/Data/images/train/000393.jpg: corrupt JPEG restored and saved\n",
      "\u001b[34m\u001b[1mtrain: \u001b[0mWARNING ⚠️ /Users/iliyask/Helmet_iliyas/helmet_det/Data/images/train/000433.jpg: corrupt JPEG restored and saved\n",
      "\u001b[34m\u001b[1mtrain: \u001b[0mWARNING ⚠️ /Users/iliyask/Helmet_iliyas/helmet_det/Data/images/train/000457.jpg: corrupt JPEG restored and saved\n",
      "\u001b[34m\u001b[1mtrain: \u001b[0mWARNING ⚠️ /Users/iliyask/Helmet_iliyas/helmet_det/Data/images/train/000512.jpg: corrupt JPEG restored and saved\n",
      "\u001b[34m\u001b[1mtrain: \u001b[0mWARNING ⚠️ /Users/iliyask/Helmet_iliyas/helmet_det/Data/images/train/000514.jpg: corrupt JPEG restored and saved\n",
      "\u001b[34m\u001b[1mtrain: \u001b[0mWARNING ⚠️ /Users/iliyask/Helmet_iliyas/helmet_det/Data/images/train/000548.jpg: corrupt JPEG restored and saved\n",
      "\u001b[34m\u001b[1mtrain: \u001b[0mWARNING ⚠️ /Users/iliyask/Helmet_iliyas/helmet_det/Data/images/train/000565.jpg: corrupt JPEG restored and saved\n",
      "\u001b[34m\u001b[1mtrain: \u001b[0mWARNING ⚠️ /Users/iliyask/Helmet_iliyas/helmet_det/Data/images/train/000599.jpg: corrupt JPEG restored and saved\n",
      "\u001b[34m\u001b[1mtrain: \u001b[0mWARNING ⚠️ /Users/iliyask/Helmet_iliyas/helmet_det/Data/images/train/000686.jpg: corrupt JPEG restored and saved\n",
      "\u001b[34m\u001b[1mtrain: \u001b[0mWARNING ⚠️ /Users/iliyask/Helmet_iliyas/helmet_det/Data/images/train/000687.jpg: corrupt JPEG restored and saved\n",
      "\u001b[34m\u001b[1mtrain: \u001b[0mWARNING ⚠️ /Users/iliyask/Helmet_iliyas/helmet_det/Data/images/train/000734.jpg: corrupt JPEG restored and saved\n",
      "\u001b[34m\u001b[1mtrain: \u001b[0mWARNING ⚠️ /Users/iliyask/Helmet_iliyas/helmet_det/Data/images/train/000796.jpg: corrupt JPEG restored and saved\n",
      "\u001b[34m\u001b[1mtrain: \u001b[0mWARNING ⚠️ /Users/iliyask/Helmet_iliyas/helmet_det/Data/images/train/000797.jpg: corrupt JPEG restored and saved\n",
      "\u001b[34m\u001b[1mtrain: \u001b[0mWARNING ⚠️ /Users/iliyask/Helmet_iliyas/helmet_det/Data/images/train/000798.jpg: corrupt JPEG restored and saved\n",
      "\u001b[34m\u001b[1mtrain: \u001b[0mWARNING ⚠️ /Users/iliyask/Helmet_iliyas/helmet_det/Data/images/train/000799.jpg: corrupt JPEG restored and saved\n",
      "\u001b[34m\u001b[1mtrain: \u001b[0mWARNING ⚠️ /Users/iliyask/Helmet_iliyas/helmet_det/Data/images/train/000815.jpg: corrupt JPEG restored and saved\n",
      "\u001b[34m\u001b[1mtrain: \u001b[0mWARNING ⚠️ /Users/iliyask/Helmet_iliyas/helmet_det/Data/images/train/000820.jpg: corrupt JPEG restored and saved\n",
      "\u001b[34m\u001b[1mtrain: \u001b[0mWARNING ⚠️ /Users/iliyask/Helmet_iliyas/helmet_det/Data/images/train/000827.jpg: corrupt JPEG restored and saved\n",
      "\u001b[34m\u001b[1mtrain: \u001b[0mWARNING ⚠️ /Users/iliyask/Helmet_iliyas/helmet_det/Data/images/train/000909.jpg: corrupt JPEG restored and saved\n",
      "\u001b[34m\u001b[1mtrain: \u001b[0mWARNING ⚠️ /Users/iliyask/Helmet_iliyas/helmet_det/Data/images/train/000985.jpg: corrupt JPEG restored and saved\n",
      "\u001b[34m\u001b[1mtrain: \u001b[0mWARNING ⚠️ /Users/iliyask/Helmet_iliyas/helmet_det/Data/images/train/001042.jpg: corrupt JPEG restored and saved\n",
      "\u001b[34m\u001b[1mtrain: \u001b[0mWARNING ⚠️ /Users/iliyask/Helmet_iliyas/helmet_det/Data/images/train/001046.jpg: corrupt JPEG restored and saved\n",
      "\u001b[34m\u001b[1mtrain: \u001b[0mWARNING ⚠️ /Users/iliyask/Helmet_iliyas/helmet_det/Data/images/train/001150.jpg: corrupt JPEG restored and saved\n",
      "\u001b[34m\u001b[1mtrain: \u001b[0mWARNING ⚠️ /Users/iliyask/Helmet_iliyas/helmet_det/Data/images/train/001354.jpg: corrupt JPEG restored and saved\n",
      "\u001b[34m\u001b[1mtrain: \u001b[0mWARNING ⚠️ /Users/iliyask/Helmet_iliyas/helmet_det/Data/images/train/001386.jpg: corrupt JPEG restored and saved\n",
      "\u001b[34m\u001b[1mtrain: \u001b[0mWARNING ⚠️ /Users/iliyask/Helmet_iliyas/helmet_det/Data/images/train/001387.jpg: corrupt JPEG restored and saved\n",
      "\u001b[34m\u001b[1mtrain: \u001b[0mWARNING ⚠️ /Users/iliyask/Helmet_iliyas/helmet_det/Data/images/train/part2_000878.jpg: corrupt JPEG restored and saved\n",
      "\u001b[34m\u001b[1mtrain: \u001b[0mWARNING ⚠️ /Users/iliyask/Helmet_iliyas/helmet_det/Data/images/train/part2_001363.jpg: corrupt JPEG restored and saved\n",
      "\u001b[34m\u001b[1mtrain: \u001b[0mWARNING ⚠️ /Users/iliyask/Helmet_iliyas/helmet_det/Data/images/train/part2_001696.jpg: corrupt JPEG restored and saved\n"
     ]
    },
    {
     "name": "stderr",
     "output_type": "stream",
     "text": [
      "\n"
     ]
    },
    {
     "name": "stdout",
     "output_type": "stream",
     "text": [
      "\u001b[34m\u001b[1mtrain: \u001b[0mNew cache created: /Users/iliyask/Helmet_iliyas/helmet_det/Data/labels/train.cache\n"
     ]
    },
    {
     "name": "stderr",
     "output_type": "stream",
     "text": [
      "\u001b[34m\u001b[1mval: \u001b[0mScanning /Users/iliyask/Helmet_iliyas/helmet_det/Data/labels/val... 683 images, 0 backgrounds, 0 corrupt: 100%|██████████| 683/683 [00:00<00:00, 2462.16it/s]"
     ]
    },
    {
     "name": "stdout",
     "output_type": "stream",
     "text": [
      "\u001b[34m\u001b[1mval: \u001b[0mWARNING ⚠️ /Users/iliyask/Helmet_iliyas/helmet_det/Data/images/val/000061.jpg: corrupt JPEG restored and saved\n",
      "\u001b[34m\u001b[1mval: \u001b[0mWARNING ⚠️ /Users/iliyask/Helmet_iliyas/helmet_det/Data/images/val/000173.jpg: corrupt JPEG restored and saved\n",
      "\u001b[34m\u001b[1mval: \u001b[0mWARNING ⚠️ /Users/iliyask/Helmet_iliyas/helmet_det/Data/images/val/000274.jpg: corrupt JPEG restored and saved\n",
      "\u001b[34m\u001b[1mval: \u001b[0mWARNING ⚠️ /Users/iliyask/Helmet_iliyas/helmet_det/Data/images/val/000290.jpg: corrupt JPEG restored and saved\n",
      "\u001b[34m\u001b[1mval: \u001b[0mWARNING ⚠️ /Users/iliyask/Helmet_iliyas/helmet_det/Data/images/val/000528.jpg: corrupt JPEG restored and saved\n",
      "\u001b[34m\u001b[1mval: \u001b[0mWARNING ⚠️ /Users/iliyask/Helmet_iliyas/helmet_det/Data/images/val/000601.jpg: corrupt JPEG restored and saved\n",
      "\u001b[34m\u001b[1mval: \u001b[0mWARNING ⚠️ /Users/iliyask/Helmet_iliyas/helmet_det/Data/images/val/000640.jpg: corrupt JPEG restored and saved\n",
      "\u001b[34m\u001b[1mval: \u001b[0mWARNING ⚠️ /Users/iliyask/Helmet_iliyas/helmet_det/Data/images/val/001358.jpg: corrupt JPEG restored and saved\n",
      "\u001b[34m\u001b[1mval: \u001b[0mWARNING ⚠️ /Users/iliyask/Helmet_iliyas/helmet_det/Data/images/val/part2_001057.jpg: corrupt JPEG restored and saved\n",
      "\u001b[34m\u001b[1mval: \u001b[0mWARNING ⚠️ /Users/iliyask/Helmet_iliyas/helmet_det/Data/images/val/part2_001825.jpg: corrupt JPEG restored and saved\n",
      "\u001b[34m\u001b[1mval: \u001b[0mNew cache created: /Users/iliyask/Helmet_iliyas/helmet_det/Data/labels/val.cache\n"
     ]
    },
    {
     "name": "stderr",
     "output_type": "stream",
     "text": [
      "\n"
     ]
    },
    {
     "name": "stdout",
     "output_type": "stream",
     "text": [
      "Plotting labels to runs/detect/train15/labels.jpg... \n",
      "\u001b[34m\u001b[1moptimizer:\u001b[0m 'optimizer=auto' found, ignoring 'lr0=0.01' and 'momentum=0.937' and determining best 'optimizer', 'lr0' and 'momentum' automatically... \n",
      "\u001b[34m\u001b[1moptimizer:\u001b[0m AdamW(lr=0.001667, momentum=0.9) with parameter groups 57 weight(decay=0.0), 64 weight(decay=0.0005), 63 bias(decay=0.0)\n",
      "\u001b[34m\u001b[1mTensorBoard: \u001b[0mmodel graph visualization added ✅\n",
      "Image sizes 640 train, 640 val\n",
      "Using 0 dataloader workers\n",
      "Logging results to \u001b[1mruns/detect/train15\u001b[0m\n",
      "Starting training for 2 epochs...\n",
      "\n",
      "      Epoch    GPU_mem   box_loss   cls_loss   dfl_loss  Instances       Size\n"
     ]
    },
    {
     "name": "stderr",
     "output_type": "stream",
     "text": [
      "        1/2         0G      1.729       1.37      1.073        459        640: 100%|██████████| 384/384 [50:28<00:00,  7.89s/it]  \n",
      "                 Class     Images  Instances      Box(P          R      mAP50  mAP50-95): 100%|██████████| 22/22 [01:26<00:00,  3.92s/it]"
     ]
    },
    {
     "name": "stdout",
     "output_type": "stream",
     "text": [
      "                   all        683      11053      0.837       0.69      0.781      0.469\n"
     ]
    },
    {
     "name": "stderr",
     "output_type": "stream",
     "text": [
      "\n"
     ]
    },
    {
     "name": "stdout",
     "output_type": "stream",
     "text": [
      "\n",
      "      Epoch    GPU_mem   box_loss   cls_loss   dfl_loss  Instances       Size\n"
     ]
    },
    {
     "name": "stderr",
     "output_type": "stream",
     "text": [
      "        2/2         0G      1.605     0.9167      1.033        376        640: 100%|██████████| 384/384 [55:32<00:00,  8.68s/it]\n",
      "                 Class     Images  Instances      Box(P          R      mAP50  mAP50-95): 100%|██████████| 22/22 [01:50<00:00,  5.03s/it]"
     ]
    },
    {
     "name": "stdout",
     "output_type": "stream",
     "text": [
      "                   all        683      11053      0.843      0.756      0.839      0.516\n"
     ]
    },
    {
     "name": "stderr",
     "output_type": "stream",
     "text": [
      "\n"
     ]
    },
    {
     "name": "stdout",
     "output_type": "stream",
     "text": [
      "\n",
      "2 epochs completed in 1.823 hours.\n",
      "Optimizer stripped from runs/detect/train15/weights/last.pt, 6.2MB\n",
      "Optimizer stripped from runs/detect/train15/weights/best.pt, 6.2MB\n",
      "\n",
      "Validating runs/detect/train15/weights/best.pt...\n",
      "Ultralytics YOLOv8.2.18 🚀 Python-3.10.6 torch-2.3.0 CPU (Apple M2)\n",
      "Model summary (fused): 168 layers, 3006038 parameters, 0 gradients, 8.1 GFLOPs\n"
     ]
    },
    {
     "name": "stderr",
     "output_type": "stream",
     "text": [
      "                 Class     Images  Instances      Box(P          R      mAP50  mAP50-95): 100%|██████████| 22/22 [01:48<00:00,  4.93s/it]\n"
     ]
    },
    {
     "name": "stdout",
     "output_type": "stream",
     "text": [
      "                   all        683      11053      0.845      0.756      0.839      0.516\n",
      "                helmet        683        705       0.81      0.807      0.847      0.638\n",
      "                person        683      10348      0.879      0.705      0.831      0.394\n",
      "Speed: 0.9ms preprocess, 143.5ms inference, 0.0ms loss, 1.1ms postprocess per image\n",
      "Results saved to \u001b[1mruns/detect/train15\u001b[0m\n"
     ]
    }
   ],
   "source": [
    "from ultralytics import YOLO\n",
    "\n",
    "# Load a pre-trained YOLOv8 nano model\n",
    "model = YOLO(\"yolov8n.pt\")\n",
    "\n",
    "# Train the model using the specified dataset and number of epochs\n",
    "results = model.train(data=\"helmet.yaml\", epochs=2)\n"
   ]
  },
  {
   "cell_type": "code",
   "execution_count": 3,
   "metadata": {},
   "outputs": [
    {
     "name": "stdout",
     "output_type": "stream",
     "text": [
      "Requirement already satisfied: ultralytics in /Users/iliyask/.pyenv/versions/3.10.6/envs/helmet_det/lib/python3.10/site-packages (8.2.18)\n",
      "Requirement already satisfied: matplotlib>=3.3.0 in /Users/iliyask/.pyenv/versions/3.10.6/envs/helmet_det/lib/python3.10/site-packages (from ultralytics) (3.9.0)\n",
      "Requirement already satisfied: opencv-python>=4.6.0 in /Users/iliyask/.pyenv/versions/3.10.6/envs/helmet_det/lib/python3.10/site-packages (from ultralytics) (4.9.0.80)\n",
      "Requirement already satisfied: pillow>=7.1.2 in /Users/iliyask/.pyenv/versions/3.10.6/envs/helmet_det/lib/python3.10/site-packages (from ultralytics) (10.3.0)\n",
      "Requirement already satisfied: pyyaml>=5.3.1 in /Users/iliyask/.pyenv/versions/3.10.6/envs/helmet_det/lib/python3.10/site-packages (from ultralytics) (6.0.1)\n",
      "Requirement already satisfied: requests>=2.23.0 in /Users/iliyask/.pyenv/versions/3.10.6/envs/helmet_det/lib/python3.10/site-packages (from ultralytics) (2.31.0)\n",
      "Requirement already satisfied: scipy>=1.4.1 in /Users/iliyask/.pyenv/versions/3.10.6/envs/helmet_det/lib/python3.10/site-packages (from ultralytics) (1.13.0)\n",
      "Requirement already satisfied: torch>=1.8.0 in /Users/iliyask/.pyenv/versions/3.10.6/envs/helmet_det/lib/python3.10/site-packages (from ultralytics) (2.3.0)\n",
      "Requirement already satisfied: torchvision>=0.9.0 in /Users/iliyask/.pyenv/versions/3.10.6/envs/helmet_det/lib/python3.10/site-packages (from ultralytics) (0.18.0)\n",
      "Requirement already satisfied: tqdm>=4.64.0 in /Users/iliyask/.pyenv/versions/3.10.6/envs/helmet_det/lib/python3.10/site-packages (from ultralytics) (4.66.4)\n",
      "Requirement already satisfied: psutil in /Users/iliyask/.pyenv/versions/3.10.6/envs/helmet_det/lib/python3.10/site-packages (from ultralytics) (5.9.8)\n",
      "Requirement already satisfied: py-cpuinfo in /Users/iliyask/.pyenv/versions/3.10.6/envs/helmet_det/lib/python3.10/site-packages (from ultralytics) (9.0.0)\n",
      "Requirement already satisfied: thop>=0.1.1 in /Users/iliyask/.pyenv/versions/3.10.6/envs/helmet_det/lib/python3.10/site-packages (from ultralytics) (0.1.1.post2209072238)\n",
      "Requirement already satisfied: pandas>=1.1.4 in /Users/iliyask/.pyenv/versions/3.10.6/envs/helmet_det/lib/python3.10/site-packages (from ultralytics) (2.2.2)\n",
      "Requirement already satisfied: seaborn>=0.11.0 in /Users/iliyask/.pyenv/versions/3.10.6/envs/helmet_det/lib/python3.10/site-packages (from ultralytics) (0.13.2)\n",
      "Requirement already satisfied: contourpy>=1.0.1 in /Users/iliyask/.pyenv/versions/3.10.6/envs/helmet_det/lib/python3.10/site-packages (from matplotlib>=3.3.0->ultralytics) (1.2.1)\n",
      "Requirement already satisfied: cycler>=0.10 in /Users/iliyask/.pyenv/versions/3.10.6/envs/helmet_det/lib/python3.10/site-packages (from matplotlib>=3.3.0->ultralytics) (0.12.1)\n",
      "Requirement already satisfied: fonttools>=4.22.0 in /Users/iliyask/.pyenv/versions/3.10.6/envs/helmet_det/lib/python3.10/site-packages (from matplotlib>=3.3.0->ultralytics) (4.51.0)\n",
      "Requirement already satisfied: kiwisolver>=1.3.1 in /Users/iliyask/.pyenv/versions/3.10.6/envs/helmet_det/lib/python3.10/site-packages (from matplotlib>=3.3.0->ultralytics) (1.4.5)\n",
      "Requirement already satisfied: numpy>=1.23 in /Users/iliyask/.pyenv/versions/3.10.6/envs/helmet_det/lib/python3.10/site-packages (from matplotlib>=3.3.0->ultralytics) (1.26.4)\n",
      "Requirement already satisfied: packaging>=20.0 in /Users/iliyask/.pyenv/versions/3.10.6/envs/helmet_det/lib/python3.10/site-packages (from matplotlib>=3.3.0->ultralytics) (24.0)\n",
      "Requirement already satisfied: pyparsing>=2.3.1 in /Users/iliyask/.pyenv/versions/3.10.6/envs/helmet_det/lib/python3.10/site-packages (from matplotlib>=3.3.0->ultralytics) (3.1.2)\n",
      "Requirement already satisfied: python-dateutil>=2.7 in /Users/iliyask/.pyenv/versions/3.10.6/envs/helmet_det/lib/python3.10/site-packages (from matplotlib>=3.3.0->ultralytics) (2.9.0.post0)\n",
      "Requirement already satisfied: pytz>=2020.1 in /Users/iliyask/.pyenv/versions/3.10.6/envs/helmet_det/lib/python3.10/site-packages (from pandas>=1.1.4->ultralytics) (2024.1)\n",
      "Requirement already satisfied: tzdata>=2022.7 in /Users/iliyask/.pyenv/versions/3.10.6/envs/helmet_det/lib/python3.10/site-packages (from pandas>=1.1.4->ultralytics) (2024.1)\n",
      "Requirement already satisfied: charset-normalizer<4,>=2 in /Users/iliyask/.pyenv/versions/3.10.6/envs/helmet_det/lib/python3.10/site-packages (from requests>=2.23.0->ultralytics) (3.3.2)\n",
      "Requirement already satisfied: idna<4,>=2.5 in /Users/iliyask/.pyenv/versions/3.10.6/envs/helmet_det/lib/python3.10/site-packages (from requests>=2.23.0->ultralytics) (3.7)\n",
      "Requirement already satisfied: urllib3<3,>=1.21.1 in /Users/iliyask/.pyenv/versions/3.10.6/envs/helmet_det/lib/python3.10/site-packages (from requests>=2.23.0->ultralytics) (2.2.1)\n",
      "Requirement already satisfied: certifi>=2017.4.17 in /Users/iliyask/.pyenv/versions/3.10.6/envs/helmet_det/lib/python3.10/site-packages (from requests>=2.23.0->ultralytics) (2024.2.2)\n",
      "Requirement already satisfied: filelock in /Users/iliyask/.pyenv/versions/3.10.6/envs/helmet_det/lib/python3.10/site-packages (from torch>=1.8.0->ultralytics) (3.14.0)\n",
      "Requirement already satisfied: typing-extensions>=4.8.0 in /Users/iliyask/.pyenv/versions/3.10.6/envs/helmet_det/lib/python3.10/site-packages (from torch>=1.8.0->ultralytics) (4.11.0)\n",
      "Requirement already satisfied: sympy in /Users/iliyask/.pyenv/versions/3.10.6/envs/helmet_det/lib/python3.10/site-packages (from torch>=1.8.0->ultralytics) (1.12)\n",
      "Requirement already satisfied: networkx in /Users/iliyask/.pyenv/versions/3.10.6/envs/helmet_det/lib/python3.10/site-packages (from torch>=1.8.0->ultralytics) (3.3)\n",
      "Requirement already satisfied: jinja2 in /Users/iliyask/.pyenv/versions/3.10.6/envs/helmet_det/lib/python3.10/site-packages (from torch>=1.8.0->ultralytics) (3.1.4)\n",
      "Requirement already satisfied: fsspec in /Users/iliyask/.pyenv/versions/3.10.6/envs/helmet_det/lib/python3.10/site-packages (from torch>=1.8.0->ultralytics) (2024.5.0)\n",
      "Requirement already satisfied: six>=1.5 in /Users/iliyask/.pyenv/versions/3.10.6/envs/helmet_det/lib/python3.10/site-packages (from python-dateutil>=2.7->matplotlib>=3.3.0->ultralytics) (1.16.0)\n",
      "Requirement already satisfied: MarkupSafe>=2.0 in /Users/iliyask/.pyenv/versions/3.10.6/envs/helmet_det/lib/python3.10/site-packages (from jinja2->torch>=1.8.0->ultralytics) (2.1.5)\n",
      "Requirement already satisfied: mpmath>=0.19 in /Users/iliyask/.pyenv/versions/3.10.6/envs/helmet_det/lib/python3.10/site-packages (from sympy->torch>=1.8.0->ultralytics) (1.3.0)\n"
     ]
    }
   ],
   "source": []
  },
  {
   "cell_type": "code",
   "execution_count": 18,
   "metadata": {},
   "outputs": [
    {
     "name": "stdout",
     "output_type": "stream",
     "text": [
      "fatal: destination path 'yolov5' already exists and is not an empty directory.\n",
      "Requirement already satisfied: anyio==4.3.0 in /Users/iliyask/.pyenv/versions/3.10.6/envs/helmet_det/lib/python3.10/site-packages (from -r requirements.txt (line 1)) (4.3.0)\n",
      "Requirement already satisfied: argon2-cffi==23.1.0 in /Users/iliyask/.pyenv/versions/3.10.6/envs/helmet_det/lib/python3.10/site-packages (from -r requirements.txt (line 2)) (23.1.0)\n",
      "Requirement already satisfied: argon2-cffi-bindings==21.2.0 in /Users/iliyask/.pyenv/versions/3.10.6/envs/helmet_det/lib/python3.10/site-packages (from -r requirements.txt (line 3)) (21.2.0)\n",
      "Requirement already satisfied: arrow==1.3.0 in /Users/iliyask/.pyenv/versions/3.10.6/envs/helmet_det/lib/python3.10/site-packages (from -r requirements.txt (line 4)) (1.3.0)\n",
      "Requirement already satisfied: astroid==3.2.1 in /Users/iliyask/.pyenv/versions/3.10.6/envs/helmet_det/lib/python3.10/site-packages (from -r requirements.txt (line 5)) (3.2.1)\n",
      "Requirement already satisfied: asttokens==2.4.1 in /Users/iliyask/.pyenv/versions/3.10.6/envs/helmet_det/lib/python3.10/site-packages (from -r requirements.txt (line 6)) (2.4.1)\n",
      "Requirement already satisfied: async-lru==2.0.4 in /Users/iliyask/.pyenv/versions/3.10.6/envs/helmet_det/lib/python3.10/site-packages (from -r requirements.txt (line 7)) (2.0.4)\n",
      "Requirement already satisfied: attrs==23.2.0 in /Users/iliyask/.pyenv/versions/3.10.6/envs/helmet_det/lib/python3.10/site-packages (from -r requirements.txt (line 8)) (23.2.0)\n",
      "Requirement already satisfied: Babel==2.15.0 in /Users/iliyask/.pyenv/versions/3.10.6/envs/helmet_det/lib/python3.10/site-packages (from -r requirements.txt (line 9)) (2.15.0)\n",
      "Requirement already satisfied: beautifulsoup4==4.12.3 in /Users/iliyask/.pyenv/versions/3.10.6/envs/helmet_det/lib/python3.10/site-packages (from -r requirements.txt (line 10)) (4.12.3)\n",
      "Requirement already satisfied: bleach==6.1.0 in /Users/iliyask/.pyenv/versions/3.10.6/envs/helmet_det/lib/python3.10/site-packages (from -r requirements.txt (line 11)) (6.1.0)\n",
      "Requirement already satisfied: certifi==2024.2.2 in /Users/iliyask/.pyenv/versions/3.10.6/envs/helmet_det/lib/python3.10/site-packages (from -r requirements.txt (line 12)) (2024.2.2)\n",
      "Requirement already satisfied: cffi==1.16.0 in /Users/iliyask/.pyenv/versions/3.10.6/envs/helmet_det/lib/python3.10/site-packages (from -r requirements.txt (line 13)) (1.16.0)\n",
      "Requirement already satisfied: charset-normalizer==3.3.2 in /Users/iliyask/.pyenv/versions/3.10.6/envs/helmet_det/lib/python3.10/site-packages (from -r requirements.txt (line 14)) (3.3.2)\n",
      "Requirement already satisfied: comm==0.2.2 in /Users/iliyask/.pyenv/versions/3.10.6/envs/helmet_det/lib/python3.10/site-packages (from -r requirements.txt (line 15)) (0.2.2)\n",
      "Requirement already satisfied: contourpy==1.2.1 in /Users/iliyask/.pyenv/versions/3.10.6/envs/helmet_det/lib/python3.10/site-packages (from -r requirements.txt (line 16)) (1.2.1)\n",
      "Requirement already satisfied: cycler==0.12.1 in /Users/iliyask/.pyenv/versions/3.10.6/envs/helmet_det/lib/python3.10/site-packages (from -r requirements.txt (line 17)) (0.12.1)\n",
      "Requirement already satisfied: debugpy==1.8.1 in /Users/iliyask/.pyenv/versions/3.10.6/envs/helmet_det/lib/python3.10/site-packages (from -r requirements.txt (line 18)) (1.8.1)\n",
      "Requirement already satisfied: decorator==5.1.1 in /Users/iliyask/.pyenv/versions/3.10.6/envs/helmet_det/lib/python3.10/site-packages (from -r requirements.txt (line 19)) (5.1.1)\n",
      "Requirement already satisfied: defusedxml==0.7.1 in /Users/iliyask/.pyenv/versions/3.10.6/envs/helmet_det/lib/python3.10/site-packages (from -r requirements.txt (line 20)) (0.7.1)\n",
      "Requirement already satisfied: dill==0.3.8 in /Users/iliyask/.pyenv/versions/3.10.6/envs/helmet_det/lib/python3.10/site-packages (from -r requirements.txt (line 21)) (0.3.8)\n",
      "Requirement already satisfied: exceptiongroup==1.2.1 in /Users/iliyask/.pyenv/versions/3.10.6/envs/helmet_det/lib/python3.10/site-packages (from -r requirements.txt (line 22)) (1.2.1)\n",
      "Requirement already satisfied: executing==2.0.1 in /Users/iliyask/.pyenv/versions/3.10.6/envs/helmet_det/lib/python3.10/site-packages (from -r requirements.txt (line 23)) (2.0.1)\n",
      "Requirement already satisfied: fastjsonschema==2.19.1 in /Users/iliyask/.pyenv/versions/3.10.6/envs/helmet_det/lib/python3.10/site-packages (from -r requirements.txt (line 24)) (2.19.1)\n",
      "Requirement already satisfied: fonttools==4.51.0 in /Users/iliyask/.pyenv/versions/3.10.6/envs/helmet_det/lib/python3.10/site-packages (from -r requirements.txt (line 25)) (4.51.0)\n",
      "Requirement already satisfied: fqdn==1.5.1 in /Users/iliyask/.pyenv/versions/3.10.6/envs/helmet_det/lib/python3.10/site-packages (from -r requirements.txt (line 26)) (1.5.1)\n",
      "Requirement already satisfied: h11==0.14.0 in /Users/iliyask/.pyenv/versions/3.10.6/envs/helmet_det/lib/python3.10/site-packages (from -r requirements.txt (line 27)) (0.14.0)\n",
      "Requirement already satisfied: httpcore==1.0.5 in /Users/iliyask/.pyenv/versions/3.10.6/envs/helmet_det/lib/python3.10/site-packages (from -r requirements.txt (line 28)) (1.0.5)\n",
      "Requirement already satisfied: httpx==0.27.0 in /Users/iliyask/.pyenv/versions/3.10.6/envs/helmet_det/lib/python3.10/site-packages (from -r requirements.txt (line 29)) (0.27.0)\n",
      "Requirement already satisfied: idna==3.7 in /Users/iliyask/.pyenv/versions/3.10.6/envs/helmet_det/lib/python3.10/site-packages (from -r requirements.txt (line 30)) (3.7)\n",
      "Requirement already satisfied: iniconfig==2.0.0 in /Users/iliyask/.pyenv/versions/3.10.6/envs/helmet_det/lib/python3.10/site-packages (from -r requirements.txt (line 31)) (2.0.0)\n",
      "Requirement already satisfied: ipdb==0.13.13 in /Users/iliyask/.pyenv/versions/3.10.6/envs/helmet_det/lib/python3.10/site-packages (from -r requirements.txt (line 32)) (0.13.13)\n",
      "Requirement already satisfied: ipykernel==6.29.4 in /Users/iliyask/.pyenv/versions/3.10.6/envs/helmet_det/lib/python3.10/site-packages (from -r requirements.txt (line 33)) (6.29.4)\n",
      "Requirement already satisfied: ipython==8.24.0 in /Users/iliyask/.pyenv/versions/3.10.6/envs/helmet_det/lib/python3.10/site-packages (from -r requirements.txt (line 34)) (8.24.0)\n",
      "Requirement already satisfied: isoduration==20.11.0 in /Users/iliyask/.pyenv/versions/3.10.6/envs/helmet_det/lib/python3.10/site-packages (from -r requirements.txt (line 35)) (20.11.0)\n",
      "Requirement already satisfied: isort==5.13.2 in /Users/iliyask/.pyenv/versions/3.10.6/envs/helmet_det/lib/python3.10/site-packages (from -r requirements.txt (line 36)) (5.13.2)\n",
      "Requirement already satisfied: jedi==0.19.1 in /Users/iliyask/.pyenv/versions/3.10.6/envs/helmet_det/lib/python3.10/site-packages (from -r requirements.txt (line 37)) (0.19.1)\n",
      "Requirement already satisfied: Jinja2==3.1.4 in /Users/iliyask/.pyenv/versions/3.10.6/envs/helmet_det/lib/python3.10/site-packages (from -r requirements.txt (line 38)) (3.1.4)\n",
      "Requirement already satisfied: joblib==1.4.2 in /Users/iliyask/.pyenv/versions/3.10.6/envs/helmet_det/lib/python3.10/site-packages (from -r requirements.txt (line 39)) (1.4.2)\n",
      "Requirement already satisfied: json5==0.9.25 in /Users/iliyask/.pyenv/versions/3.10.6/envs/helmet_det/lib/python3.10/site-packages (from -r requirements.txt (line 40)) (0.9.25)\n",
      "Requirement already satisfied: jsonpointer==2.4 in /Users/iliyask/.pyenv/versions/3.10.6/envs/helmet_det/lib/python3.10/site-packages (from -r requirements.txt (line 41)) (2.4)\n",
      "Requirement already satisfied: jsonschema==4.22.0 in /Users/iliyask/.pyenv/versions/3.10.6/envs/helmet_det/lib/python3.10/site-packages (from -r requirements.txt (line 42)) (4.22.0)\n",
      "Requirement already satisfied: jsonschema-specifications==2023.12.1 in /Users/iliyask/.pyenv/versions/3.10.6/envs/helmet_det/lib/python3.10/site-packages (from -r requirements.txt (line 43)) (2023.12.1)\n",
      "Requirement already satisfied: jupyter-events==0.10.0 in /Users/iliyask/.pyenv/versions/3.10.6/envs/helmet_det/lib/python3.10/site-packages (from -r requirements.txt (line 44)) (0.10.0)\n",
      "Requirement already satisfied: jupyter-lsp==2.2.5 in /Users/iliyask/.pyenv/versions/3.10.6/envs/helmet_det/lib/python3.10/site-packages (from -r requirements.txt (line 45)) (2.2.5)\n",
      "Requirement already satisfied: jupyter_client==8.6.1 in /Users/iliyask/.pyenv/versions/3.10.6/envs/helmet_det/lib/python3.10/site-packages (from -r requirements.txt (line 46)) (8.6.1)\n",
      "Requirement already satisfied: jupyter_core==5.7.2 in /Users/iliyask/.pyenv/versions/3.10.6/envs/helmet_det/lib/python3.10/site-packages (from -r requirements.txt (line 47)) (5.7.2)\n",
      "Requirement already satisfied: jupyter_server==2.14.0 in /Users/iliyask/.pyenv/versions/3.10.6/envs/helmet_det/lib/python3.10/site-packages (from -r requirements.txt (line 48)) (2.14.0)\n",
      "Requirement already satisfied: jupyter_server_terminals==0.5.3 in /Users/iliyask/.pyenv/versions/3.10.6/envs/helmet_det/lib/python3.10/site-packages (from -r requirements.txt (line 49)) (0.5.3)\n",
      "Requirement already satisfied: jupyterlab==4.2.0 in /Users/iliyask/.pyenv/versions/3.10.6/envs/helmet_det/lib/python3.10/site-packages (from -r requirements.txt (line 50)) (4.2.0)\n",
      "Requirement already satisfied: jupyterlab_pygments==0.3.0 in /Users/iliyask/.pyenv/versions/3.10.6/envs/helmet_det/lib/python3.10/site-packages (from -r requirements.txt (line 51)) (0.3.0)\n",
      "Requirement already satisfied: jupyterlab_server==2.27.1 in /Users/iliyask/.pyenv/versions/3.10.6/envs/helmet_det/lib/python3.10/site-packages (from -r requirements.txt (line 52)) (2.27.1)\n",
      "Requirement already satisfied: kiwisolver==1.4.5 in /Users/iliyask/.pyenv/versions/3.10.6/envs/helmet_det/lib/python3.10/site-packages (from -r requirements.txt (line 53)) (1.4.5)\n",
      "Requirement already satisfied: MarkupSafe==2.1.5 in /Users/iliyask/.pyenv/versions/3.10.6/envs/helmet_det/lib/python3.10/site-packages (from -r requirements.txt (line 54)) (2.1.5)\n",
      "Requirement already satisfied: matplotlib==3.9.0 in /Users/iliyask/.pyenv/versions/3.10.6/envs/helmet_det/lib/python3.10/site-packages (from -r requirements.txt (line 55)) (3.9.0)\n",
      "Requirement already satisfied: matplotlib-inline==0.1.7 in /Users/iliyask/.pyenv/versions/3.10.6/envs/helmet_det/lib/python3.10/site-packages (from -r requirements.txt (line 56)) (0.1.7)\n",
      "Requirement already satisfied: mccabe==0.7.0 in /Users/iliyask/.pyenv/versions/3.10.6/envs/helmet_det/lib/python3.10/site-packages (from -r requirements.txt (line 57)) (0.7.0)\n",
      "Requirement already satisfied: mistune==3.0.2 in /Users/iliyask/.pyenv/versions/3.10.6/envs/helmet_det/lib/python3.10/site-packages (from -r requirements.txt (line 58)) (3.0.2)\n",
      "Requirement already satisfied: nbclient==0.10.0 in /Users/iliyask/.pyenv/versions/3.10.6/envs/helmet_det/lib/python3.10/site-packages (from -r requirements.txt (line 59)) (0.10.0)\n",
      "Requirement already satisfied: nbconvert==7.16.4 in /Users/iliyask/.pyenv/versions/3.10.6/envs/helmet_det/lib/python3.10/site-packages (from -r requirements.txt (line 60)) (7.16.4)\n",
      "Requirement already satisfied: nbformat==5.10.4 in /Users/iliyask/.pyenv/versions/3.10.6/envs/helmet_det/lib/python3.10/site-packages (from -r requirements.txt (line 61)) (5.10.4)\n",
      "Requirement already satisfied: nest-asyncio==1.6.0 in /Users/iliyask/.pyenv/versions/3.10.6/envs/helmet_det/lib/python3.10/site-packages (from -r requirements.txt (line 62)) (1.6.0)\n",
      "Requirement already satisfied: notebook_shim==0.2.4 in /Users/iliyask/.pyenv/versions/3.10.6/envs/helmet_det/lib/python3.10/site-packages (from -r requirements.txt (line 63)) (0.2.4)\n",
      "Requirement already satisfied: numpy==1.26.4 in /Users/iliyask/.pyenv/versions/3.10.6/envs/helmet_det/lib/python3.10/site-packages (from -r requirements.txt (line 64)) (1.26.4)\n",
      "Requirement already satisfied: opencv-python==4.9.0.80 in /Users/iliyask/.pyenv/versions/3.10.6/envs/helmet_det/lib/python3.10/site-packages (from -r requirements.txt (line 65)) (4.9.0.80)\n",
      "Requirement already satisfied: overrides==7.7.0 in /Users/iliyask/.pyenv/versions/3.10.6/envs/helmet_det/lib/python3.10/site-packages (from -r requirements.txt (line 66)) (7.7.0)\n",
      "Requirement already satisfied: packaging==24.0 in /Users/iliyask/.pyenv/versions/3.10.6/envs/helmet_det/lib/python3.10/site-packages (from -r requirements.txt (line 67)) (24.0)\n",
      "Requirement already satisfied: pandas==2.2.2 in /Users/iliyask/.pyenv/versions/3.10.6/envs/helmet_det/lib/python3.10/site-packages (from -r requirements.txt (line 68)) (2.2.2)\n",
      "Requirement already satisfied: pandocfilters==1.5.1 in /Users/iliyask/.pyenv/versions/3.10.6/envs/helmet_det/lib/python3.10/site-packages (from -r requirements.txt (line 69)) (1.5.1)\n",
      "Requirement already satisfied: parso==0.8.4 in /Users/iliyask/.pyenv/versions/3.10.6/envs/helmet_det/lib/python3.10/site-packages (from -r requirements.txt (line 70)) (0.8.4)\n",
      "Requirement already satisfied: pexpect==4.9.0 in /Users/iliyask/.pyenv/versions/3.10.6/envs/helmet_det/lib/python3.10/site-packages (from -r requirements.txt (line 71)) (4.9.0)\n",
      "Requirement already satisfied: pillow==10.3.0 in /Users/iliyask/.pyenv/versions/3.10.6/envs/helmet_det/lib/python3.10/site-packages (from -r requirements.txt (line 72)) (10.3.0)\n",
      "Requirement already satisfied: platformdirs==4.2.2 in /Users/iliyask/.pyenv/versions/3.10.6/envs/helmet_det/lib/python3.10/site-packages (from -r requirements.txt (line 73)) (4.2.2)\n",
      "Requirement already satisfied: pluggy==1.5.0 in /Users/iliyask/.pyenv/versions/3.10.6/envs/helmet_det/lib/python3.10/site-packages (from -r requirements.txt (line 74)) (1.5.0)\n",
      "Requirement already satisfied: prometheus_client==0.20.0 in /Users/iliyask/.pyenv/versions/3.10.6/envs/helmet_det/lib/python3.10/site-packages (from -r requirements.txt (line 75)) (0.20.0)\n",
      "Requirement already satisfied: prompt-toolkit==3.0.43 in /Users/iliyask/.pyenv/versions/3.10.6/envs/helmet_det/lib/python3.10/site-packages (from -r requirements.txt (line 76)) (3.0.43)\n",
      "Requirement already satisfied: psutil==5.9.8 in /Users/iliyask/.pyenv/versions/3.10.6/envs/helmet_det/lib/python3.10/site-packages (from -r requirements.txt (line 77)) (5.9.8)\n",
      "Requirement already satisfied: ptyprocess==0.7.0 in /Users/iliyask/.pyenv/versions/3.10.6/envs/helmet_det/lib/python3.10/site-packages (from -r requirements.txt (line 78)) (0.7.0)\n",
      "Requirement already satisfied: pure-eval==0.2.2 in /Users/iliyask/.pyenv/versions/3.10.6/envs/helmet_det/lib/python3.10/site-packages (from -r requirements.txt (line 79)) (0.2.2)\n",
      "Requirement already satisfied: pycparser==2.22 in /Users/iliyask/.pyenv/versions/3.10.6/envs/helmet_det/lib/python3.10/site-packages (from -r requirements.txt (line 80)) (2.22)\n",
      "Requirement already satisfied: Pygments==2.18.0 in /Users/iliyask/.pyenv/versions/3.10.6/envs/helmet_det/lib/python3.10/site-packages (from -r requirements.txt (line 81)) (2.18.0)\n",
      "Requirement already satisfied: pylint==3.2.1 in /Users/iliyask/.pyenv/versions/3.10.6/envs/helmet_det/lib/python3.10/site-packages (from -r requirements.txt (line 82)) (3.2.1)\n",
      "Requirement already satisfied: pyparsing==3.1.2 in /Users/iliyask/.pyenv/versions/3.10.6/envs/helmet_det/lib/python3.10/site-packages (from -r requirements.txt (line 83)) (3.1.2)\n",
      "Requirement already satisfied: pytest==8.2.0 in /Users/iliyask/.pyenv/versions/3.10.6/envs/helmet_det/lib/python3.10/site-packages (from -r requirements.txt (line 84)) (8.2.0)\n",
      "Requirement already satisfied: python-dateutil==2.9.0.post0 in /Users/iliyask/.pyenv/versions/3.10.6/envs/helmet_det/lib/python3.10/site-packages (from -r requirements.txt (line 85)) (2.9.0.post0)\n",
      "Requirement already satisfied: python-json-logger==2.0.7 in /Users/iliyask/.pyenv/versions/3.10.6/envs/helmet_det/lib/python3.10/site-packages (from -r requirements.txt (line 86)) (2.0.7)\n",
      "Requirement already satisfied: pytz==2024.1 in /Users/iliyask/.pyenv/versions/3.10.6/envs/helmet_det/lib/python3.10/site-packages (from -r requirements.txt (line 87)) (2024.1)\n",
      "Requirement already satisfied: PyYAML==6.0.1 in /Users/iliyask/.pyenv/versions/3.10.6/envs/helmet_det/lib/python3.10/site-packages (from -r requirements.txt (line 88)) (6.0.1)\n",
      "Requirement already satisfied: pyzmq==26.0.3 in /Users/iliyask/.pyenv/versions/3.10.6/envs/helmet_det/lib/python3.10/site-packages (from -r requirements.txt (line 89)) (26.0.3)\n",
      "Requirement already satisfied: referencing==0.35.1 in /Users/iliyask/.pyenv/versions/3.10.6/envs/helmet_det/lib/python3.10/site-packages (from -r requirements.txt (line 90)) (0.35.1)\n",
      "Requirement already satisfied: requests==2.31.0 in /Users/iliyask/.pyenv/versions/3.10.6/envs/helmet_det/lib/python3.10/site-packages (from -r requirements.txt (line 91)) (2.31.0)\n",
      "Requirement already satisfied: rfc3339-validator==0.1.4 in /Users/iliyask/.pyenv/versions/3.10.6/envs/helmet_det/lib/python3.10/site-packages (from -r requirements.txt (line 92)) (0.1.4)\n",
      "Requirement already satisfied: rfc3986-validator==0.1.1 in /Users/iliyask/.pyenv/versions/3.10.6/envs/helmet_det/lib/python3.10/site-packages (from -r requirements.txt (line 93)) (0.1.1)\n",
      "Requirement already satisfied: rpds-py==0.18.1 in /Users/iliyask/.pyenv/versions/3.10.6/envs/helmet_det/lib/python3.10/site-packages (from -r requirements.txt (line 94)) (0.18.1)\n",
      "Requirement already satisfied: scikit-learn==1.4.2 in /Users/iliyask/.pyenv/versions/3.10.6/envs/helmet_det/lib/python3.10/site-packages (from -r requirements.txt (line 95)) (1.4.2)\n",
      "Requirement already satisfied: scipy==1.13.0 in /Users/iliyask/.pyenv/versions/3.10.6/envs/helmet_det/lib/python3.10/site-packages (from -r requirements.txt (line 96)) (1.13.0)\n",
      "Requirement already satisfied: seaborn==0.13.2 in /Users/iliyask/.pyenv/versions/3.10.6/envs/helmet_det/lib/python3.10/site-packages (from -r requirements.txt (line 97)) (0.13.2)\n",
      "Requirement already satisfied: Send2Trash==1.8.3 in /Users/iliyask/.pyenv/versions/3.10.6/envs/helmet_det/lib/python3.10/site-packages (from -r requirements.txt (line 98)) (1.8.3)\n",
      "Requirement already satisfied: six==1.16.0 in /Users/iliyask/.pyenv/versions/3.10.6/envs/helmet_det/lib/python3.10/site-packages (from -r requirements.txt (line 99)) (1.16.0)\n",
      "Requirement already satisfied: sniffio==1.3.1 in /Users/iliyask/.pyenv/versions/3.10.6/envs/helmet_det/lib/python3.10/site-packages (from -r requirements.txt (line 100)) (1.3.1)\n",
      "Requirement already satisfied: soupsieve==2.5 in /Users/iliyask/.pyenv/versions/3.10.6/envs/helmet_det/lib/python3.10/site-packages (from -r requirements.txt (line 101)) (2.5)\n",
      "Requirement already satisfied: stack-data==0.6.3 in /Users/iliyask/.pyenv/versions/3.10.6/envs/helmet_det/lib/python3.10/site-packages (from -r requirements.txt (line 102)) (0.6.3)\n",
      "Requirement already satisfied: terminado==0.18.1 in /Users/iliyask/.pyenv/versions/3.10.6/envs/helmet_det/lib/python3.10/site-packages (from -r requirements.txt (line 103)) (0.18.1)\n",
      "Requirement already satisfied: threadpoolctl==3.5.0 in /Users/iliyask/.pyenv/versions/3.10.6/envs/helmet_det/lib/python3.10/site-packages (from -r requirements.txt (line 104)) (3.5.0)\n",
      "Requirement already satisfied: tinycss2==1.3.0 in /Users/iliyask/.pyenv/versions/3.10.6/envs/helmet_det/lib/python3.10/site-packages (from -r requirements.txt (line 105)) (1.3.0)\n",
      "Requirement already satisfied: tomli==2.0.1 in /Users/iliyask/.pyenv/versions/3.10.6/envs/helmet_det/lib/python3.10/site-packages (from -r requirements.txt (line 106)) (2.0.1)\n",
      "Requirement already satisfied: tomlkit==0.12.5 in /Users/iliyask/.pyenv/versions/3.10.6/envs/helmet_det/lib/python3.10/site-packages (from -r requirements.txt (line 107)) (0.12.5)\n",
      "Requirement already satisfied: tornado==6.4 in /Users/iliyask/.pyenv/versions/3.10.6/envs/helmet_det/lib/python3.10/site-packages (from -r requirements.txt (line 108)) (6.4)\n",
      "Requirement already satisfied: tqdm==4.66.4 in /Users/iliyask/.pyenv/versions/3.10.6/envs/helmet_det/lib/python3.10/site-packages (from -r requirements.txt (line 109)) (4.66.4)\n",
      "Requirement already satisfied: traitlets==5.14.3 in /Users/iliyask/.pyenv/versions/3.10.6/envs/helmet_det/lib/python3.10/site-packages (from -r requirements.txt (line 110)) (5.14.3)\n",
      "Requirement already satisfied: types-python-dateutil==2.9.0.20240316 in /Users/iliyask/.pyenv/versions/3.10.6/envs/helmet_det/lib/python3.10/site-packages (from -r requirements.txt (line 111)) (2.9.0.20240316)\n",
      "Requirement already satisfied: typing_extensions==4.11.0 in /Users/iliyask/.pyenv/versions/3.10.6/envs/helmet_det/lib/python3.10/site-packages (from -r requirements.txt (line 112)) (4.11.0)\n",
      "Requirement already satisfied: tzdata==2024.1 in /Users/iliyask/.pyenv/versions/3.10.6/envs/helmet_det/lib/python3.10/site-packages (from -r requirements.txt (line 113)) (2024.1)\n",
      "Requirement already satisfied: uri-template==1.3.0 in /Users/iliyask/.pyenv/versions/3.10.6/envs/helmet_det/lib/python3.10/site-packages (from -r requirements.txt (line 114)) (1.3.0)\n",
      "Requirement already satisfied: urllib3==2.2.1 in /Users/iliyask/.pyenv/versions/3.10.6/envs/helmet_det/lib/python3.10/site-packages (from -r requirements.txt (line 115)) (2.2.1)\n",
      "Requirement already satisfied: wcwidth==0.2.13 in /Users/iliyask/.pyenv/versions/3.10.6/envs/helmet_det/lib/python3.10/site-packages (from -r requirements.txt (line 116)) (0.2.13)\n",
      "Requirement already satisfied: webcolors==1.13 in /Users/iliyask/.pyenv/versions/3.10.6/envs/helmet_det/lib/python3.10/site-packages (from -r requirements.txt (line 117)) (1.13)\n",
      "Requirement already satisfied: webencodings==0.5.1 in /Users/iliyask/.pyenv/versions/3.10.6/envs/helmet_det/lib/python3.10/site-packages (from -r requirements.txt (line 118)) (0.5.1)\n",
      "Requirement already satisfied: websocket-client==1.8.0 in /Users/iliyask/.pyenv/versions/3.10.6/envs/helmet_det/lib/python3.10/site-packages (from -r requirements.txt (line 119)) (1.8.0)\n",
      "Requirement already satisfied: appnope in /Users/iliyask/.pyenv/versions/3.10.6/envs/helmet_det/lib/python3.10/site-packages (from ipykernel==6.29.4->-r requirements.txt (line 33)) (0.1.4)\n"
     ]
    }
   ],
   "source": [
    "!git clone https://github.com/ultralytics/yolov5\n",
    "!cd yolov5\n",
    "!pip install -r requirements.txt"
   ]
  },
  {
   "cell_type": "code",
   "execution_count": 21,
   "metadata": {},
   "outputs": [
    {
     "ename": "ImportError",
     "evalue": "cannot import name 'YOLO' from 'ultralytics' (unknown location)",
     "output_type": "error",
     "traceback": [
      "\u001b[0;31m---------------------------------------------------------------------------\u001b[0m",
      "\u001b[0;31mImportError\u001b[0m                               Traceback (most recent call last)",
      "Cell \u001b[0;32mIn[21], line 5\u001b[0m\n\u001b[1;32m      3\u001b[0m \u001b[38;5;28;01mimport\u001b[39;00m \u001b[38;5;21;01mcv2\u001b[39;00m\n\u001b[1;32m      4\u001b[0m \u001b[38;5;28;01mimport\u001b[39;00m \u001b[38;5;21;01mnumpy\u001b[39;00m \u001b[38;5;28;01mas\u001b[39;00m \u001b[38;5;21;01mnp\u001b[39;00m\n\u001b[0;32m----> 5\u001b[0m \u001b[38;5;28;01mfrom\u001b[39;00m \u001b[38;5;21;01multralytics\u001b[39;00m \u001b[38;5;28;01mimport\u001b[39;00m YOLO\n\u001b[1;32m      7\u001b[0m \u001b[38;5;66;03m# Load the model\u001b[39;00m\n\u001b[1;32m      8\u001b[0m model_25 \u001b[38;5;241m=\u001b[39m torch\u001b[38;5;241m.\u001b[39mhub\u001b[38;5;241m.\u001b[39mload(\u001b[38;5;124m'\u001b[39m\u001b[38;5;124multralytics/yolov5\u001b[39m\u001b[38;5;124m'\u001b[39m, \u001b[38;5;124m'\u001b[39m\u001b[38;5;124mcustom\u001b[39m\u001b[38;5;124m'\u001b[39m, path\u001b[38;5;241m=\u001b[39m\u001b[38;5;124m'\u001b[39m\u001b[38;5;124mbest.pt\u001b[39m\u001b[38;5;124m'\u001b[39m)\n",
      "\u001b[0;31mImportError\u001b[0m: cannot import name 'YOLO' from 'ultralytics' (unknown location)"
     ]
    }
   ],
   "source": [
    "import torch\n",
    "from pathlib import Path\n",
    "import cv2\n",
    "import numpy as np\n",
    "from ultralytics import YOLO\n",
    "\n",
    "# Load the model\n",
    "model_25 = torch.hub.load('ultralytics/yolov5', 'custom', path='best.pt')"
   ]
  },
  {
   "cell_type": "code",
   "execution_count": 6,
   "metadata": {},
   "outputs": [],
   "source": [
    "import cv2\n",
    "import matplotlib_inline"
   ]
  },
  {
   "cell_type": "code",
   "execution_count": null,
   "metadata": {},
   "outputs": [],
   "source": []
  },
  {
   "cell_type": "code",
   "execution_count": 8,
   "metadata": {},
   "outputs": [
    {
     "data": {
      "text/plain": [
       "'# Define the path pattern to find all .jpg files in the test directory\\ntest_image_path = os.path.join(\"Data\", \"images\", \"test\", \"*.jpg\")\\n\\n# Use glob to find all matching files\\nimages = glob(test_image_path)\\n\\n# Print the list of found images\\nimages_to_process = images[:5]\\n\\nresults=model_25(images_to_process)\\n# Run batched inference on a list of imag\\ntotal_images=0\\nfor result in results:\\n    boxes = result.boxes  # Boxes object for bounding box outputs\\n    masks = result.masks  # Masks object for segmentation masks outputs\\n    keypoints = result.keypoints  # Keypoints object for pose outputs\\n    probs = result.probs  # Probs object for classification outputs\\n    obb = result.obb  # Oriented boxes object for OBB outputs\\n\\n    # Display the result\\n    result.show()\\n\\n    # Save the displayed image to the \"results_image\" folder\\n    result.save(filename=f\"results_image/result_{total_images}.jpg\")\\n\\n    total_images += 1'"
      ]
     },
     "execution_count": 8,
     "metadata": {},
     "output_type": "execute_result"
    }
   ],
   "source": [
    "'''# Define the path pattern to find all .jpg files in the test directory\n",
    "test_image_path = os.path.join(\"Data\", \"images\", \"test\", \"*.jpg\")\n",
    "\n",
    "# Use glob to find all matching files\n",
    "images = glob(test_image_path)\n",
    "\n",
    "# Print the list of found images\n",
    "images_to_process = images[:5]\n",
    "\n",
    "results=model_25(images_to_process)\n",
    "# Run batched inference on a list of imag\n",
    "total_images=0\n",
    "for result in results:\n",
    "    boxes = result.boxes  # Boxes object for bounding box outputs\n",
    "    masks = result.masks  # Masks object for segmentation masks outputs\n",
    "    keypoints = result.keypoints  # Keypoints object for pose outputs\n",
    "    probs = result.probs  # Probs object for classification outputs\n",
    "    obb = result.obb  # Oriented boxes object for OBB outputs\n",
    "\n",
    "    # Display the result\n",
    "    result.show()\n",
    "\n",
    "    # Save the displayed image to the \"results_image\" folder\n",
    "    result.save(filename=f\"results_image/result_{total_images}.jpg\")\n",
    "\n",
    "    total_images += 1'''"
   ]
  },
  {
   "cell_type": "code",
   "execution_count": 9,
   "metadata": {},
   "outputs": [],
   "source": [
    "test_image_path = os.path.join(\"Data\", \"images\", \"test\", \"*.jpg\")\n",
    "\n",
    "# Use glob to find all matching files\n",
    "images = glob(test_image_path)\n",
    "\n",
    "# Print the list of found images\n",
    "images_to_process = images[:5]\n",
    "\n",
    "results=model_25(images_to_process)"
   ]
  },
  {
   "cell_type": "code",
   "execution_count": 10,
   "metadata": {},
   "outputs": [
    {
     "data": {
      "text/plain": [
       "YOLOv5 <class 'models.common.Detections'> instance\n",
       "image 1/5: 1024x718 1 helmet\n",
       "image 2/5: 608x1032 28 persons\n",
       "image 3/5: 1806x2709 5 persons\n",
       "image 4/5: 950x1400 1 helmet\n",
       "image 5/5: 520x930 36 persons\n",
       "Speed: 14.3ms pre-process, 54.3ms inference, 0.3ms NMS per image at shape (5, 3, 640, 640)"
      ]
     },
     "execution_count": 10,
     "metadata": {},
     "output_type": "execute_result"
    }
   ],
   "source": [
    "results"
   ]
  },
  {
   "cell_type": "code",
   "execution_count": 28,
   "metadata": {},
   "outputs": [
    {
     "name": "stdout",
     "output_type": "stream",
     "text": [
      "\u001b[34m\u001b[1mval: \u001b[0mdata=helmet.yaml, weights=['best.pt'], batch_size=64, imgsz=640, conf_thres=0.001, iou_thres=0.6, max_det=300, task=test, device=, workers=8, single_cls=False, augment=False, verbose=False, save_txt=False, save_hybrid=False, save_conf=False, save_json=False, project=yolov5/runs/val, name=exp, exist_ok=False, half=False, dnn=False\n",
      "YOLOv5 🚀 v7.0-313-g712de55a Python-3.10.6 torch-2.3.0 CPU\n",
      "\n",
      "Fusing layers... \n",
      "Model summary: 157 layers, 1761871 parameters, 0 gradients, 4.1 GFLOPs\n",
      "Downloading https://ultralytics.com/assets/Arial.ttf to /Users/iliyask/Library/Application Support/Ultralytics/Arial.ttf...\n",
      "100%|████████████████████████████████████████| 755k/755k [00:00<00:00, 33.1MB/s]\n",
      "\u001b[34m\u001b[1mtest: \u001b[0mScanning /Users/iliyask/Helmet_iliyas/helmet_det/Data/labels/test... 759 i\u001b[0m\n",
      "\u001b[34m\u001b[1mtest: \u001b[0mWARNING ⚠️ /Users/iliyask/Helmet_iliyas/helmet_det/Data/images/test/000006.jpg: corrupt JPEG restored and saved\n",
      "\u001b[34m\u001b[1mtest: \u001b[0mWARNING ⚠️ /Users/iliyask/Helmet_iliyas/helmet_det/Data/images/test/000397.jpg: corrupt JPEG restored and saved\n",
      "\u001b[34m\u001b[1mtest: \u001b[0mWARNING ⚠️ /Users/iliyask/Helmet_iliyas/helmet_det/Data/images/test/000458.jpg: corrupt JPEG restored and saved\n",
      "\u001b[34m\u001b[1mtest: \u001b[0mWARNING ⚠️ /Users/iliyask/Helmet_iliyas/helmet_det/Data/images/test/000738.jpg: corrupt JPEG restored and saved\n",
      "\u001b[34m\u001b[1mtest: \u001b[0mWARNING ⚠️ /Users/iliyask/Helmet_iliyas/helmet_det/Data/images/test/000964.jpg: corrupt JPEG restored and saved\n",
      "\u001b[34m\u001b[1mtest: \u001b[0mWARNING ⚠️ /Users/iliyask/Helmet_iliyas/helmet_det/Data/images/test/part2_000609.jpg: corrupt JPEG restored and saved\n",
      "\u001b[34m\u001b[1mtest: \u001b[0mNew cache created: /Users/iliyask/Helmet_iliyas/helmet_det/Data/labels/test.cache\n",
      "                 Class     Images  Instances          P          R      mAP50   \n",
      "                   all        766      11924      0.911      0.853      0.911      0.563\n",
      "                helmet        766        826      0.902      0.886       0.93      0.686\n",
      "                person        766      11098       0.92      0.819      0.892      0.439\n",
      "Speed: 0.9ms pre-process, 94.5ms inference, 0.5ms NMS per image at shape (64, 3, 640, 640)\n",
      "Results saved to \u001b[1myolov5/runs/val/exp\u001b[0m\n"
     ]
    }
   ],
   "source": [
    "!python ./yolov5/val.py --img 640 --batch 64 --data helmet.yaml --weights best.pt --task test\n"
   ]
  },
  {
   "cell_type": "code",
   "execution_count": null,
   "metadata": {},
   "outputs": [],
   "source": []
  },
  {
   "cell_type": "code",
   "execution_count": 38,
   "metadata": {},
   "outputs": [
    {
     "name": "stdout",
     "output_type": "stream",
     "text": [
      "\u001b[34m\u001b[1mval: \u001b[0mdata=helmet.yaml, weights=['best.pt'], batch_size=64, imgsz=640, conf_thres=0.001, iou_thres=0.6, max_det=300, task=val, device=, workers=8, single_cls=False, augment=False, verbose=False, save_txt=False, save_hybrid=False, save_conf=False, save_json=False, project=yolov5/runs/val, name=exp, exist_ok=False, half=False, dnn=False\n",
      "YOLOv5 🚀 v7.0-313-g712de55a Python-3.10.6 torch-2.3.0 CPU\n",
      "\n",
      "Fusing layers... \n",
      "Model summary: 157 layers, 1761871 parameters, 0 gradients, 4.1 GFLOPs\n",
      "\u001b[34m\u001b[1mval: \u001b[0mScanning /Users/iliyask/Helmet_iliyas/helmet_det/Data/labels/val.cache... 6\u001b[0m\n",
      "\u001b[34m\u001b[1mval: \u001b[0mWARNING ⚠️ /Users/iliyask/Helmet_iliyas/helmet_det/Data/images/val/000061.jpg: corrupt JPEG restored and saved\n",
      "\u001b[34m\u001b[1mval: \u001b[0mWARNING ⚠️ /Users/iliyask/Helmet_iliyas/helmet_det/Data/images/val/000173.jpg: corrupt JPEG restored and saved\n",
      "\u001b[34m\u001b[1mval: \u001b[0mWARNING ⚠️ /Users/iliyask/Helmet_iliyas/helmet_det/Data/images/val/000274.jpg: corrupt JPEG restored and saved\n",
      "\u001b[34m\u001b[1mval: \u001b[0mWARNING ⚠️ /Users/iliyask/Helmet_iliyas/helmet_det/Data/images/val/000290.jpg: corrupt JPEG restored and saved\n",
      "\u001b[34m\u001b[1mval: \u001b[0mWARNING ⚠️ /Users/iliyask/Helmet_iliyas/helmet_det/Data/images/val/000528.jpg: corrupt JPEG restored and saved\n",
      "\u001b[34m\u001b[1mval: \u001b[0mWARNING ⚠️ /Users/iliyask/Helmet_iliyas/helmet_det/Data/images/val/000601.jpg: corrupt JPEG restored and saved\n",
      "\u001b[34m\u001b[1mval: \u001b[0mWARNING ⚠️ /Users/iliyask/Helmet_iliyas/helmet_det/Data/images/val/000640.jpg: corrupt JPEG restored and saved\n",
      "\u001b[34m\u001b[1mval: \u001b[0mWARNING ⚠️ /Users/iliyask/Helmet_iliyas/helmet_det/Data/images/val/001358.jpg: corrupt JPEG restored and saved\n",
      "\u001b[34m\u001b[1mval: \u001b[0mWARNING ⚠️ /Users/iliyask/Helmet_iliyas/helmet_det/Data/images/val/part2_001057.jpg: corrupt JPEG restored and saved\n",
      "\u001b[34m\u001b[1mval: \u001b[0mWARNING ⚠️ /Users/iliyask/Helmet_iliyas/helmet_det/Data/images/val/part2_001825.jpg: corrupt JPEG restored and saved\n",
      "^C\n",
      "Traceback (most recent call last):\n",
      "  File \"<string>\", line 1, in <module>\n",
      "  File \"/Users/iliyask/.pyenv/versions/3.10.6/lib/python3.10/multiprocessing/spawn.py\", line 116, in spawn_main\n",
      "    exitcode = _main(fd, parent_sentinel)\n",
      "  File \"/Users/iliyask/.pyenv/versions/3.10.6/lib/python3.10/multiprocessing/spawn.py\", line 125, in _main\n",
      "    prepare(preparation_data)\n",
      "  File \"/Users/iliyask/.pyenv/versions/3.10.6/lib/python3.10/multiprocessing/spawn.py\", line 236, in prepare\n",
      "    _fixup_main_from_path(data['init_main_from_path'])\n",
      "  File \"/Users/iliyask/.pyenv/versions/3.10.6/lib/python3.10/multiprocessing/spawn.py\", line 287, in _fixup_main_from_path\n",
      "    main_content = runpy.run_path(main_path,\n",
      "  File \"/Users/iliyask/.pyenv/versions/3.10.6/lib/python3.10/runpy.py\", line 289, in run_path\n",
      "    return _run_module_code(code, init_globals, run_name,\n",
      "  File \"/Users/iliyask/.pyenv/versions/3.10.6/lib/python3.10/runpy.py\", line 96, in _run_module_code\n",
      "    _run_code(code, mod_globals, init_globals,\n",
      "  File \"/Users/iliyask/.pyenv/versions/3.10.6/lib/python3.10/runpy.py\", line 86, in _run_code\n",
      "    exec(code, run_globals)\n",
      "  File \"/Users/iliyask/Helmet_iliyas/helmet_det/yolov5/val.py\", line 30, in <module>\n",
      "    import torch\n",
      "  File \"/Users/iliyask/.pyenv/versions/3.10.6/envs/helmet_det/lib/python3.10/site-packages/torch/__init__.py\", line 1919, in <module>\n",
      "    from . import _meta_registrations\n",
      "  File \"/Users/iliyask/.pyenv/versions/3.10.6/envs/helmet_det/lib/python3.10/site-packages/torch/_meta_registrations.py\", line 9, in <module>\n",
      "    from torch._decomp import (\n",
      "  File \"/Users/iliyask/.pyenv/versions/3.10.6/envs/helmet_det/lib/python3.10/site-packages/torch/_decomp/__init__.py\", line 244, in <module>\n",
      "    import torch._decomp.decompositions\n",
      "  File \"/Users/iliyask/.pyenv/versions/3.10.6/envs/helmet_det/lib/python3.10/site-packages/torch/_decomp/decompositions.py\", line 11, in <module>\n",
      "    import torch._prims as prims\n",
      "  File \"/Users/iliyask/.pyenv/versions/3.10.6/envs/helmet_det/lib/python3.10/site-packages/torch/_prims/__init__.py\", line 3031, in <module>\n",
      "    register_debug_prims()\n",
      "  File \"/Users/iliyask/.pyenv/versions/3.10.6/envs/helmet_det/lib/python3.10/site-packages/torch/_prims/debug_prims.py\", line 41, in register_debug_prims\n",
      "    def load_tensor_factory(name, size, stride, dtype, device):\n",
      "  File \"/Users/iliyask/.pyenv/versions/3.10.6/envs/helmet_det/lib/python3.10/site-packages/torch/_custom_op/impl.py\", line 333, in inner\n",
      "    self._register_impl(\"factory\", f)\n",
      "  File \"/Users/iliyask/.pyenv/versions/3.10.6/envs/helmet_det/lib/python3.10/site-packages/torch/_custom_op/impl.py\", line 223, in _register_impl\n",
      "    frame = inspect.getframeinfo(sys._getframe(stacklevel))\n",
      "  File \"/Users/iliyask/.pyenv/versions/3.10.6/lib/python3.10/inspect.py\", line 1629, in getframeinfo\n",
      "    lines, lnum = findsource(frame)\n",
      "  File \"/Users/iliyask/.pyenv/versions/3.10.6/lib/python3.10/inspect.py\", line 952, in findsource\n",
      "    module = getmodule(object, file)\n",
      "  File \"/Users/iliyask/.pyenv/versions/3.10.6/lib/python3.10/inspect.py\", line 878, in getmodule\n",
      "    os.path.realpath(f)] = module.__name__\n",
      "  File \"/Users/iliyask/.pyenv/versions/3.10.6/lib/python3.10/posixpath.py\", line 395, in realpath\n",
      "    path, ok = _joinrealpath(filename[:0], filename, strict, {})\n",
      "  File \"/Users/iliyask/.pyenv/versions/3.10.6/lib/python3.10/posixpath.py\", line 428, in _joinrealpath\n",
      "    newpath = join(path, name)\n",
      "  File \"/Users/iliyask/.pyenv/versions/3.10.6/lib/python3.10/posixpath.py\", line 76, in join\n",
      "    a = os.fspath(a)\n",
      "KeyboardInterrupt\n",
      "Traceback (most recent call last):\n",
      "  File \"/Users/iliyask/Helmet_iliyas/helmet_det/./yolov5/val.py\", line 438, in <module>\n",
      "    main(opt)\n",
      "  File \"/Users/iliyask/Helmet_iliyas/helmet_det/./yolov5/val.py\", line 409, in main\n",
      "    run(**vars(opt))\n",
      "  File \"/Users/iliyask/.pyenv/versions/3.10.6/envs/helmet_det/lib/python3.10/site-packages/torch/utils/_contextlib.py\", line 115, in decorate_context\n",
      "    return func(*args, **kwargs)\n",
      "  File \"/Users/iliyask/Helmet_iliyas/helmet_det/./yolov5/val.py\", line 199, in run\n",
      "    dataloader = create_dataloader(\n",
      "  File \"/Users/iliyask/Helmet_iliyas/helmet_det/yolov5/utils/dataloaders.py\", line 204, in create_dataloader\n",
      "    return loader(\n",
      "  File \"/Users/iliyask/Helmet_iliyas/helmet_det/yolov5/utils/dataloaders.py\", line 230, in __init__\n",
      "    self.iterator = super().__iter__()\n",
      "  File \"/Users/iliyask/.pyenv/versions/3.10.6/envs/helmet_det/lib/python3.10/site-packages/torch/utils/data/dataloader.py\", line 439, in __iter__\n",
      "    return self._get_iterator()\n",
      "  File \"/Users/iliyask/.pyenv/versions/3.10.6/envs/helmet_det/lib/python3.10/site-packages/torch/utils/data/dataloader.py\", line 387, in _get_iterator\n",
      "    return _MultiProcessingDataLoaderIter(self)\n",
      "  File \"/Users/iliyask/.pyenv/versions/3.10.6/envs/helmet_det/lib/python3.10/site-packages/torch/utils/data/dataloader.py\", line 1040, in __init__\n",
      "    w.start()\n",
      "  File \"/Users/iliyask/.pyenv/versions/3.10.6/lib/python3.10/multiprocessing/process.py\", line 121, in start\n",
      "    self._popen = self._Popen(self)\n",
      "  File \"/Users/iliyask/.pyenv/versions/3.10.6/lib/python3.10/multiprocessing/context.py\", line 224, in _Popen\n",
      "    return _default_context.get_context().Process._Popen(process_obj)\n",
      "  File \"/Users/iliyask/.pyenv/versions/3.10.6/lib/python3.10/multiprocessing/context.py\", line 288, in _Popen\n",
      "    return Popen(process_obj)\n",
      "  File \"/Users/iliyask/.pyenv/versions/3.10.6/lib/python3.10/multiprocessing/popen_spawn_posix.py\", line 32, in __init__\n",
      "    super().__init__(process_obj)\n",
      "  File \"/Users/iliyask/.pyenv/versions/3.10.6/lib/python3.10/multiprocessing/popen_fork.py\", line 19, in __init__\n",
      "    self._launch(process_obj)\n",
      "  File \"/Users/iliyask/.pyenv/versions/3.10.6/lib/python3.10/multiprocessing/popen_spawn_posix.py\", line 62, in _launch\n",
      "    f.write(fp.getbuffer())\n",
      "KeyboardInterrupt\n"
     ]
    }
   ],
   "source": [
    "!python ./yolov5/val.py --img 640 --batch 64 --data helmet.yaml --weights best.pt --task val\n"
   ]
  },
  {
   "cell_type": "code",
   "execution_count": null,
   "metadata": {},
   "outputs": [],
   "source": []
  }
 ],
 "metadata": {
  "kernelspec": {
   "display_name": "helmet_det",
   "language": "python",
   "name": "python3"
  },
  "language_info": {
   "codemirror_mode": {
    "name": "ipython",
    "version": 3
   },
   "file_extension": ".py",
   "mimetype": "text/x-python",
   "name": "python",
   "nbconvert_exporter": "python",
   "pygments_lexer": "ipython3",
   "version": "3.10.6"
  }
 },
 "nbformat": 4,
 "nbformat_minor": 2
}
